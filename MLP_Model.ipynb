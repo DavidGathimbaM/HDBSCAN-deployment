{
 "cells": [
  {
   "cell_type": "code",
   "execution_count": 2,
   "metadata": {
    "execution": {
     "iopub.execute_input": "2024-11-13T13:43:02.317570Z",
     "iopub.status.busy": "2024-11-13T13:43:02.316527Z",
     "iopub.status.idle": "2024-11-13T13:43:03.530994Z",
     "shell.execute_reply": "2024-11-13T13:43:03.528875Z",
     "shell.execute_reply.started": "2024-11-13T13:43:02.317514Z"
    },
    "trusted": true
   },
   "outputs": [],
   "source": [
    "import numpy as np\n",
    "import pandas as pd\n",
    "from sklearn.preprocessing import StandardScaler\n",
    "from sklearn.decomposition import PCA\n",
    "import matplotlib.pyplot as plt\n",
    "import hdbscan\n",
    "from sklearn.metrics import silhouette_score, davies_bouldin_score, calinski_harabasz_score"
   ]
  },
  {
   "cell_type": "code",
   "execution_count": 3,
   "metadata": {
    "execution": {
     "iopub.execute_input": "2024-11-13T13:43:09.101600Z",
     "iopub.status.busy": "2024-11-13T13:43:09.100958Z",
     "iopub.status.idle": "2024-11-13T13:43:27.047200Z",
     "shell.execute_reply": "2024-11-13T13:43:27.045579Z",
     "shell.execute_reply.started": "2024-11-13T13:43:09.101556Z"
    },
    "trusted": true
   },
   "outputs": [
    {
     "data": {
      "text/html": [
       "<div>\n",
       "<style scoped>\n",
       "    .dataframe tbody tr th:only-of-type {\n",
       "        vertical-align: middle;\n",
       "    }\n",
       "\n",
       "    .dataframe tbody tr th {\n",
       "        vertical-align: top;\n",
       "    }\n",
       "\n",
       "    .dataframe thead th {\n",
       "        text-align: right;\n",
       "    }\n",
       "</style>\n",
       "<table border=\"1\" class=\"dataframe\">\n",
       "  <thead>\n",
       "    <tr style=\"text-align: right;\">\n",
       "      <th></th>\n",
       "      <th>Latitude</th>\n",
       "      <th>Longitude</th>\n",
       "      <th>Pop_Density_2000</th>\n",
       "      <th>Pop_Density_2001</th>\n",
       "      <th>Pop_Density_2002</th>\n",
       "      <th>Pop_Density_2003</th>\n",
       "      <th>Pop_Density_2004</th>\n",
       "      <th>Pop_Density_2005</th>\n",
       "      <th>Pop_Density_2006</th>\n",
       "      <th>Pop_Density_2007</th>\n",
       "      <th>...</th>\n",
       "      <th>Pop_Density_2014</th>\n",
       "      <th>Pop_Density_2015</th>\n",
       "      <th>Pop_Density_2016</th>\n",
       "      <th>Pop_Density_2017</th>\n",
       "      <th>Pop_Density_2018</th>\n",
       "      <th>Pop_Density_2019</th>\n",
       "      <th>Pop_Density_2020</th>\n",
       "      <th>Wind_Speed</th>\n",
       "      <th>Grid_Value</th>\n",
       "      <th>Income_Distribution</th>\n",
       "    </tr>\n",
       "  </thead>\n",
       "  <tbody>\n",
       "    <tr>\n",
       "      <th>0</th>\n",
       "      <td>35.244583</td>\n",
       "      <td>5.462084</td>\n",
       "      <td>1.416720</td>\n",
       "      <td>1.396852</td>\n",
       "      <td>1.624173</td>\n",
       "      <td>1.924415</td>\n",
       "      <td>2.429911</td>\n",
       "      <td>2.503574</td>\n",
       "      <td>3.391726</td>\n",
       "      <td>3.823526</td>\n",
       "      <td>...</td>\n",
       "      <td>17.609232</td>\n",
       "      <td>18.419613</td>\n",
       "      <td>21.129835</td>\n",
       "      <td>26.949865</td>\n",
       "      <td>35.308475</td>\n",
       "      <td>39.717140</td>\n",
       "      <td>52.668011</td>\n",
       "      <td>6.410498</td>\n",
       "      <td>1.0</td>\n",
       "      <td>Turkana</td>\n",
       "    </tr>\n",
       "    <tr>\n",
       "      <th>1</th>\n",
       "      <td>35.252917</td>\n",
       "      <td>5.462084</td>\n",
       "      <td>1.413419</td>\n",
       "      <td>1.372664</td>\n",
       "      <td>1.583961</td>\n",
       "      <td>1.867518</td>\n",
       "      <td>2.361063</td>\n",
       "      <td>2.378553</td>\n",
       "      <td>3.223956</td>\n",
       "      <td>3.587913</td>\n",
       "      <td>...</td>\n",
       "      <td>15.599761</td>\n",
       "      <td>15.981864</td>\n",
       "      <td>17.861954</td>\n",
       "      <td>23.140518</td>\n",
       "      <td>29.548529</td>\n",
       "      <td>32.403442</td>\n",
       "      <td>42.566807</td>\n",
       "      <td>6.410498</td>\n",
       "      <td>1.0</td>\n",
       "      <td>Turkana</td>\n",
       "    </tr>\n",
       "    <tr>\n",
       "      <th>2</th>\n",
       "      <td>35.261250</td>\n",
       "      <td>5.462084</td>\n",
       "      <td>1.418887</td>\n",
       "      <td>1.330445</td>\n",
       "      <td>1.540141</td>\n",
       "      <td>1.809350</td>\n",
       "      <td>2.250990</td>\n",
       "      <td>2.280811</td>\n",
       "      <td>3.042585</td>\n",
       "      <td>3.314642</td>\n",
       "      <td>...</td>\n",
       "      <td>14.218251</td>\n",
       "      <td>14.787646</td>\n",
       "      <td>16.177166</td>\n",
       "      <td>21.212101</td>\n",
       "      <td>26.670294</td>\n",
       "      <td>29.277493</td>\n",
       "      <td>39.304050</td>\n",
       "      <td>6.410498</td>\n",
       "      <td>1.0</td>\n",
       "      <td>Turkana</td>\n",
       "    </tr>\n",
       "    <tr>\n",
       "      <th>3</th>\n",
       "      <td>35.269583</td>\n",
       "      <td>5.462084</td>\n",
       "      <td>1.457395</td>\n",
       "      <td>1.385305</td>\n",
       "      <td>1.572818</td>\n",
       "      <td>1.860333</td>\n",
       "      <td>2.281828</td>\n",
       "      <td>2.322971</td>\n",
       "      <td>3.142808</td>\n",
       "      <td>3.381774</td>\n",
       "      <td>...</td>\n",
       "      <td>14.553508</td>\n",
       "      <td>15.171118</td>\n",
       "      <td>16.479475</td>\n",
       "      <td>22.152906</td>\n",
       "      <td>27.807093</td>\n",
       "      <td>30.655039</td>\n",
       "      <td>41.851067</td>\n",
       "      <td>6.410498</td>\n",
       "      <td>1.0</td>\n",
       "      <td>Turkana</td>\n",
       "    </tr>\n",
       "    <tr>\n",
       "      <th>4</th>\n",
       "      <td>35.277917</td>\n",
       "      <td>5.462084</td>\n",
       "      <td>1.512301</td>\n",
       "      <td>1.383120</td>\n",
       "      <td>1.565848</td>\n",
       "      <td>1.837749</td>\n",
       "      <td>2.219377</td>\n",
       "      <td>2.283923</td>\n",
       "      <td>3.029301</td>\n",
       "      <td>3.247593</td>\n",
       "      <td>...</td>\n",
       "      <td>13.881150</td>\n",
       "      <td>14.152464</td>\n",
       "      <td>15.410886</td>\n",
       "      <td>20.551128</td>\n",
       "      <td>25.901073</td>\n",
       "      <td>28.307270</td>\n",
       "      <td>38.238289</td>\n",
       "      <td>6.410498</td>\n",
       "      <td>1.0</td>\n",
       "      <td>Turkana</td>\n",
       "    </tr>\n",
       "  </tbody>\n",
       "</table>\n",
       "<p>5 rows × 26 columns</p>\n",
       "</div>"
      ],
      "text/plain": [
       "    Latitude  Longitude  Pop_Density_2000  Pop_Density_2001  Pop_Density_2002  \\\n",
       "0  35.244583   5.462084          1.416720          1.396852          1.624173   \n",
       "1  35.252917   5.462084          1.413419          1.372664          1.583961   \n",
       "2  35.261250   5.462084          1.418887          1.330445          1.540141   \n",
       "3  35.269583   5.462084          1.457395          1.385305          1.572818   \n",
       "4  35.277917   5.462084          1.512301          1.383120          1.565848   \n",
       "\n",
       "   Pop_Density_2003  Pop_Density_2004  Pop_Density_2005  Pop_Density_2006  \\\n",
       "0          1.924415          2.429911          2.503574          3.391726   \n",
       "1          1.867518          2.361063          2.378553          3.223956   \n",
       "2          1.809350          2.250990          2.280811          3.042585   \n",
       "3          1.860333          2.281828          2.322971          3.142808   \n",
       "4          1.837749          2.219377          2.283923          3.029301   \n",
       "\n",
       "   Pop_Density_2007  ...  Pop_Density_2014  Pop_Density_2015  \\\n",
       "0          3.823526  ...         17.609232         18.419613   \n",
       "1          3.587913  ...         15.599761         15.981864   \n",
       "2          3.314642  ...         14.218251         14.787646   \n",
       "3          3.381774  ...         14.553508         15.171118   \n",
       "4          3.247593  ...         13.881150         14.152464   \n",
       "\n",
       "   Pop_Density_2016  Pop_Density_2017  Pop_Density_2018  Pop_Density_2019  \\\n",
       "0         21.129835         26.949865         35.308475         39.717140   \n",
       "1         17.861954         23.140518         29.548529         32.403442   \n",
       "2         16.177166         21.212101         26.670294         29.277493   \n",
       "3         16.479475         22.152906         27.807093         30.655039   \n",
       "4         15.410886         20.551128         25.901073         28.307270   \n",
       "\n",
       "   Pop_Density_2020  Wind_Speed  Grid_Value  Income_Distribution  \n",
       "0         52.668011    6.410498         1.0              Turkana  \n",
       "1         42.566807    6.410498         1.0              Turkana  \n",
       "2         39.304050    6.410498         1.0              Turkana  \n",
       "3         41.851067    6.410498         1.0              Turkana  \n",
       "4         38.238289    6.410498         1.0              Turkana  \n",
       "\n",
       "[5 rows x 26 columns]"
      ]
     },
     "execution_count": 3,
     "metadata": {},
     "output_type": "execute_result"
    }
   ],
   "source": [
    "df = pd.read_csv(\"final_merged_df.csv\")\n",
    "df.head()"
   ]
  },
  {
   "cell_type": "code",
   "execution_count": 4,
   "metadata": {
    "execution": {
     "iopub.execute_input": "2024-11-13T13:43:35.999952Z",
     "iopub.status.busy": "2024-11-13T13:43:35.999505Z",
     "iopub.status.idle": "2024-11-13T13:43:36.183787Z",
     "shell.execute_reply": "2024-11-13T13:43:36.182615Z",
     "shell.execute_reply.started": "2024-11-13T13:43:35.999907Z"
    },
    "trusted": true
   },
   "outputs": [
    {
     "data": {
      "text/plain": [
       "Latitude               0\n",
       "Longitude              0\n",
       "Pop_Density_2000       0\n",
       "Pop_Density_2001       0\n",
       "Pop_Density_2002       0\n",
       "Pop_Density_2003       0\n",
       "Pop_Density_2004       0\n",
       "Pop_Density_2005       0\n",
       "Pop_Density_2006       0\n",
       "Pop_Density_2007       0\n",
       "Pop_Density_2008       0\n",
       "Pop_Density_2009       0\n",
       "Pop_Density_2010       0\n",
       "Pop_Density_2011       0\n",
       "Pop_Density_2012       0\n",
       "Pop_Density_2013       0\n",
       "Pop_Density_2014       0\n",
       "Pop_Density_2015       0\n",
       "Pop_Density_2016       0\n",
       "Pop_Density_2017       0\n",
       "Pop_Density_2018       0\n",
       "Pop_Density_2019       0\n",
       "Pop_Density_2020       0\n",
       "Wind_Speed             0\n",
       "Grid_Value             0\n",
       "Income_Distribution    0\n",
       "dtype: int64"
      ]
     },
     "execution_count": 4,
     "metadata": {},
     "output_type": "execute_result"
    }
   ],
   "source": [
    "missing_values = df.isnull().sum()\n",
    "missing_values"
   ]
  },
  {
   "cell_type": "markdown",
   "metadata": {},
   "source": [
    "## **HDBSCAN**"
   ]
  },
  {
   "cell_type": "markdown",
   "metadata": {},
   "source": [
    "### **Identify regions with sparse development where extending the grid is inefficient but wind microgrids could be feasible.**"
   ]
  },
  {
   "cell_type": "markdown",
   "metadata": {},
   "source": [
    "* Since HDBSCAN is a density-based algorithm,the clustering approach effectively groups areas based on density and other characteristics.\n",
    "* These clusters help indicate areas where extending the main grid might be inefficient, making them candidates for decentralized energy solutions, like wind or solar microgrids.\n",
    "* This algorithm is valuable for identifying potential zones for alternative energy solutions based on current density and infrastructure access patterns."
   ]
  },
  {
   "cell_type": "code",
   "execution_count": 5,
   "metadata": {
    "execution": {
     "iopub.execute_input": "2024-11-13T13:43:41.034158Z",
     "iopub.status.busy": "2024-11-13T13:43:41.033685Z",
     "iopub.status.idle": "2024-11-13T13:43:41.462141Z",
     "shell.execute_reply": "2024-11-13T13:43:41.460918Z",
     "shell.execute_reply.started": "2024-11-13T13:43:41.034113Z"
    },
    "trusted": true
   },
   "outputs": [],
   "source": [
    "# One-hot encode 'Income_Distribution' if it's categorical\n",
    "df = pd.get_dummies(df, columns=['Income_Distribution'], prefix='Income')"
   ]
  },
  {
   "cell_type": "markdown",
   "metadata": {},
   "source": [
    "#### **Subset Sampling for Exploration**\n",
    "##### Save subsets of the data to analyze specific portions or store them separately for additional exploration or testing.\n"
   ]
  },
  {
   "cell_type": "code",
   "execution_count": 6,
   "metadata": {
    "execution": {
     "iopub.execute_input": "2024-11-13T13:43:44.326638Z",
     "iopub.status.busy": "2024-11-13T13:43:44.325570Z",
     "iopub.status.idle": "2024-11-13T13:43:44.551801Z",
     "shell.execute_reply": "2024-11-13T13:43:44.550353Z",
     "shell.execute_reply.started": "2024-11-13T13:43:44.326578Z"
    },
    "trusted": true
   },
   "outputs": [],
   "source": [
    "n=250000\n",
    "m = 2500\n",
    "s = 5012\n",
    "e = 178934\n",
    "j = 2500\n",
    "df_1=df.head(j)\n",
    "df_2 = df.tail(m)\n",
    "df_3=df.iloc[s:e]\n",
    "df_4=df.sample(n=n)"
   ]
  },
  {
   "cell_type": "code",
   "execution_count": 7,
   "metadata": {
    "execution": {
     "iopub.execute_input": "2024-11-13T13:43:46.496974Z",
     "iopub.status.busy": "2024-11-13T13:43:46.496486Z",
     "iopub.status.idle": "2024-11-13T13:43:46.503113Z",
     "shell.execute_reply": "2024-11-13T13:43:46.501606Z",
     "shell.execute_reply.started": "2024-11-13T13:43:46.496927Z"
    },
    "trusted": true
   },
   "outputs": [],
   "source": [
    "# df_1.to_csv(\"../first_2500_rows.csv\")\n",
    "# df_2.to_csv(\"../last_2500_rows.cvs\")\n",
    "# df_3.to_csv(\"middle_rows.csv\")\n",
    "# df_4.to_csv(\"random_rows.csv\")"
   ]
  },
  {
   "cell_type": "code",
   "execution_count": 8,
   "metadata": {
    "execution": {
     "iopub.execute_input": "2024-11-13T13:43:52.545691Z",
     "iopub.status.busy": "2024-11-13T13:43:52.545180Z",
     "iopub.status.idle": "2024-11-13T13:43:52.551442Z",
     "shell.execute_reply": "2024-11-13T13:43:52.550084Z",
     "shell.execute_reply.started": "2024-11-13T13:43:52.545642Z"
    },
    "trusted": true
   },
   "outputs": [],
   "source": [
    "# df.to_csv(\"../test.csv\")"
   ]
  },
  {
   "cell_type": "markdown",
   "metadata": {},
   "source": [
    "### **Data Preparation for Clustering**\n",
    "Select the relevant columns, including one-hot encoded income columns, for clustering."
   ]
  },
  {
   "cell_type": "code",
   "execution_count": 9,
   "metadata": {
    "execution": {
     "iopub.execute_input": "2024-11-13T13:43:56.230333Z",
     "iopub.status.busy": "2024-11-13T13:43:56.229832Z",
     "iopub.status.idle": "2024-11-13T13:43:56.325609Z",
     "shell.execute_reply": "2024-11-13T13:43:56.324220Z",
     "shell.execute_reply.started": "2024-11-13T13:43:56.230256Z"
    },
    "trusted": true
   },
   "outputs": [],
   "source": [
    "# The one-hot encoded columns starting with \"Income_\"should be included\n",
    "income_columns = [col for col in df.columns if col.startswith('Income_')]\n",
    "clustering_data = df[['Pop_Density_2020', 'Wind_Speed', 'Latitude', 'Longitude', 'Grid_Value'] + income_columns]"
   ]
  },
  {
   "cell_type": "markdown",
   "metadata": {},
   "source": [
    "### **Standardize Features**\n",
    "Standardize the data to bring all features to a similar scale, ensuring they contribute equally to clustering.\n"
   ]
  },
  {
   "cell_type": "code",
   "execution_count": 10,
   "metadata": {
    "execution": {
     "iopub.execute_input": "2024-11-13T13:43:58.450166Z",
     "iopub.status.busy": "2024-11-13T13:43:58.449665Z",
     "iopub.status.idle": "2024-11-13T13:44:03.661074Z",
     "shell.execute_reply": "2024-11-13T13:44:03.659764Z",
     "shell.execute_reply.started": "2024-11-13T13:43:58.450119Z"
    },
    "trusted": true
   },
   "outputs": [],
   "source": [
    "# Standardize the data to bring all features to a similar scale\n",
    "scaler = StandardScaler()\n",
    "clustering_data_scaled = scaler.fit_transform(clustering_data)"
   ]
  },
  {
   "cell_type": "markdown",
   "metadata": {},
   "source": [
    "**Apply PCA for Dimensionality Reduction**\n",
    "\n",
    "Reduce to 2 components for visualization and efficiency. This helps capture the primary data variance in fewer dimensions."
   ]
  },
  {
   "cell_type": "code",
   "execution_count": 11,
   "metadata": {
    "execution": {
     "iopub.execute_input": "2024-11-13T13:44:03.664954Z",
     "iopub.status.busy": "2024-11-13T13:44:03.663759Z",
     "iopub.status.idle": "2024-11-13T13:44:11.883568Z",
     "shell.execute_reply": "2024-11-13T13:44:11.882108Z",
     "shell.execute_reply.started": "2024-11-13T13:44:03.664886Z"
    },
    "trusted": true
   },
   "outputs": [],
   "source": [
    "# Apply PCA to reduce to a manageable number of components\n",
    "pca = PCA(n_components=2)  # Adjust to 2 components for efficient clustering\n",
    "clustering_data_reduced = pca.fit_transform(clustering_data_scaled)"
   ]
  },
  {
   "cell_type": "markdown",
   "metadata": {},
   "source": [
    "Add PCA components back to the DataFrame for easier access during visualization and further analysis\n"
   ]
  },
  {
   "cell_type": "code",
   "execution_count": 12,
   "metadata": {
    "execution": {
     "iopub.execute_input": "2024-11-13T13:44:11.886189Z",
     "iopub.status.busy": "2024-11-13T13:44:11.885757Z",
     "iopub.status.idle": "2024-11-13T13:44:11.913767Z",
     "shell.execute_reply": "2024-11-13T13:44:11.912323Z",
     "shell.execute_reply.started": "2024-11-13T13:44:11.886145Z"
    },
    "trusted": true
   },
   "outputs": [],
   "source": [
    "# Add PCA components back to the DataFrame\n",
    "df['PCA_Component_1'] = clustering_data_reduced[:, 0]\n",
    "df['PCA_Component_2'] = clustering_data_reduced[:, 1]"
   ]
  },
  {
   "cell_type": "markdown",
   "metadata": {},
   "source": [
    "### **HDBSCAN Clustering with Initial Parameters**\n",
    "Initialize and fit the HDBSCAN model with chosen parameters, designed to identify natural clusters in the data.\n"
   ]
  },
  {
   "cell_type": "code",
   "execution_count": 13,
   "metadata": {
    "execution": {
     "iopub.execute_input": "2024-11-13T13:44:12.524469Z",
     "iopub.status.busy": "2024-11-13T13:44:12.523946Z",
     "iopub.status.idle": "2024-11-13T13:45:51.732712Z",
     "shell.execute_reply": "2024-11-13T13:45:51.730902Z",
     "shell.execute_reply.started": "2024-11-13T13:44:12.524420Z"
    },
    "trusted": true
   },
   "outputs": [],
   "source": [
    "# HDBSCAN clustering with optimized parameters\n",
    "hdbscan_clusterer = hdbscan.HDBSCAN(metric='manhattan', min_samples=10, min_cluster_size=50)\n",
    "clusters = hdbscan_clusterer.fit_predict(clustering_data_reduced)\n",
    "stability_scores = hdbscan_clusterer.probabilities_"
   ]
  },
  {
   "cell_type": "markdown",
   "metadata": {},
   "source": [
    "Add clusters and stability scores to the DataFrame"
   ]
  },
  {
   "cell_type": "code",
   "execution_count": 14,
   "metadata": {
    "execution": {
     "iopub.execute_input": "2024-11-13T13:45:51.736366Z",
     "iopub.status.busy": "2024-11-13T13:45:51.735820Z",
     "iopub.status.idle": "2024-11-13T13:45:51.752092Z",
     "shell.execute_reply": "2024-11-13T13:45:51.750606Z",
     "shell.execute_reply.started": "2024-11-13T13:45:51.736303Z"
    },
    "trusted": true
   },
   "outputs": [],
   "source": [
    "# Add clusters and stability scores back to the original DataFrame\n",
    "df['Cluster'] = clusters\n",
    "df['Stability_Score'] = stability_scores"
   ]
  },
  {
   "cell_type": "markdown",
   "metadata": {},
   "source": [
    "### **Evaluate Clustering Quality**\n",
    "Calculate clustering metrics for evaluation, excluding noise points labeled as -1."
   ]
  },
  {
   "cell_type": "code",
   "execution_count": 15,
   "metadata": {
    "execution": {
     "iopub.execute_input": "2024-11-13T13:45:51.754839Z",
     "iopub.status.busy": "2024-11-13T13:45:51.754259Z",
     "iopub.status.idle": "2024-11-13T13:45:51.810450Z",
     "shell.execute_reply": "2024-11-13T13:45:51.809097Z",
     "shell.execute_reply.started": "2024-11-13T13:45:51.754786Z"
    },
    "trusted": true
   },
   "outputs": [],
   "source": [
    "# Filter out noise points (-1 label in HDBSCAN) before calculating metrics\n",
    "clustered_data = clustering_data_reduced[clusters != -1]\n",
    "valid_clusters = clusters[clusters != -1]"
   ]
  },
  {
   "cell_type": "code",
   "execution_count": 16,
   "metadata": {
    "execution": {
     "iopub.execute_input": "2024-11-13T13:45:51.814262Z",
     "iopub.status.busy": "2024-11-13T13:45:51.813747Z",
     "iopub.status.idle": "2024-11-13T13:46:12.810289Z",
     "shell.execute_reply": "2024-11-13T13:46:12.808796Z",
     "shell.execute_reply.started": "2024-11-13T13:45:51.814203Z"
    },
    "trusted": true
   },
   "outputs": [
    {
     "name": "stdout",
     "output_type": "stream",
     "text": [
      "Davies-Bouldin Index: 0.6969684556875131\n",
      "Calinski-Harabasz Index: 410962.8938781065\n",
      "Cluster Labels: [ 330  330  330 ...  285 1104 1104]\n",
      "Cluster Stability Scores: [1.         1.         1.         ... 0.04395425 0.87210856 0.87210856]\n"
     ]
    }
   ],
   "source": [
    "if len(set(valid_clusters)) > 1:  # Ensure there's more than one cluster for evaluation\n",
    "    db_index = davies_bouldin_score(clustered_data, valid_clusters)\n",
    "    ch_index = calinski_harabasz_score(clustered_data, valid_clusters)\n",
    "    print(\"Davies-Bouldin Index:\", db_index)\n",
    "    print(\"Calinski-Harabasz Index:\", ch_index)\n",
    "else:\n",
    "    print(\"Insufficient clusters for evaluation metrics\")\n",
    "\n",
    "# Print stability scores and cluster labels\n",
    "print(\"Cluster Labels:\", clusters)\n",
    "print(\"Cluster Stability Scores:\", stability_scores)"
   ]
  },
  {
   "cell_type": "markdown",
   "metadata": {},
   "source": [
    "### **Cluster Visualization**\n",
    "Visualize the clusters on the two PCA components to understand the data's clustering structure.\n"
   ]
  },
  {
   "cell_type": "code",
   "execution_count": 17,
   "metadata": {
    "execution": {
     "iopub.execute_input": "2024-11-13T13:46:12.812256Z",
     "iopub.status.busy": "2024-11-13T13:46:12.811880Z",
     "iopub.status.idle": "2024-11-13T13:46:29.703931Z",
     "shell.execute_reply": "2024-11-13T13:46:29.702389Z",
     "shell.execute_reply.started": "2024-11-13T13:46:12.812217Z"
    },
    "trusted": true
   },
   "outputs": [
    {
     "data": {
      "image/png": "[encoded data removed]",
      "text/plain": [
       "<Figure size 1000x600 with 2 Axes>"
      ]
     },
     "metadata": {},
     "output_type": "display_data"
    }
   ],
   "source": [
    "# Visualize clustering results\n",
    "plt.figure(figsize=(10, 6))\n",
    "plt.scatter(clustering_data_reduced[:, 0], clustering_data_reduced[:, 1], c=clusters, cmap='viridis', s=5)\n",
    "plt.colorbar(label='Cluster')\n",
    "plt.xlabel('PCA Component 1')\n",
    "plt.ylabel('PCA Component 2')\n",
    "plt.title('HDBSCAN Clustering Results on Full Dataset')\n",
    "plt.show()"
   ]
  },
  {
   "cell_type": "markdown",
   "metadata": {},
   "source": [
    "#### **Fine-Tuning with Grid Search**\n",
    "Explore various combinations of HDBSCAN parameters to optimize clustering performance.\n"
   ]
  },
  {
   "cell_type": "code",
   "execution_count": 18,
   "metadata": {
    "execution": {
     "iopub.execute_input": "2024-11-13T13:46:29.706177Z",
     "iopub.status.busy": "2024-11-13T13:46:29.705745Z",
     "iopub.status.idle": "2024-11-13T13:46:29.712692Z",
     "shell.execute_reply": "2024-11-13T13:46:29.711040Z",
     "shell.execute_reply.started": "2024-11-13T13:46:29.706131Z"
    },
    "trusted": true
   },
   "outputs": [],
   "source": [
    "import itertools"
   ]
  },
  {
   "cell_type": "code",
   "execution_count": 19,
   "metadata": {
    "execution": {
     "iopub.execute_input": "2024-11-13T13:46:29.715074Z",
     "iopub.status.busy": "2024-11-13T13:46:29.714529Z",
     "iopub.status.idle": "2024-11-13T13:46:29.726261Z",
     "shell.execute_reply": "2024-11-13T13:46:29.724978Z",
     "shell.execute_reply.started": "2024-11-13T13:46:29.715016Z"
    },
    "trusted": true
   },
   "outputs": [],
   "source": [
    "# Define parameter grid\n",
    "min_cluster_sizes = [20, 50, 100]\n",
    "min_samples_options = [5, 10, 20]\n",
    "metrics = ['euclidean', 'manhattan']"
   ]
  },
  {
   "cell_type": "code",
   "execution_count": 20,
   "metadata": {
    "execution": {
     "iopub.execute_input": "2024-11-13T13:46:29.728789Z",
     "iopub.status.busy": "2024-11-13T13:46:29.728260Z",
     "iopub.status.idle": "2024-11-13T13:46:29.739100Z",
     "shell.execute_reply": "2024-11-13T13:46:29.737659Z",
     "shell.execute_reply.started": "2024-11-13T13:46:29.728735Z"
    },
    "trusted": true
   },
   "outputs": [],
   "source": [
    "# Store results\n",
    "best_params = {}\n",
    "best_db_index = float('inf')"
   ]
  },
  {
   "cell_type": "code",
   "execution_count": 21,
   "metadata": {
    "execution": {
     "iopub.execute_input": "2024-11-13T13:46:29.741815Z",
     "iopub.status.busy": "2024-11-13T13:46:29.741211Z",
     "iopub.status.idle": "2024-11-13T13:53:20.777941Z",
     "shell.execute_reply": "2024-11-13T13:53:20.774478Z",
     "shell.execute_reply.started": "2024-11-13T13:46:29.741753Z"
    },
    "trusted": true
   },
   "outputs": [],
   "source": [
    "# for min_cluster_size, min_samples, metric in itertools.product(min_cluster_sizes, min_samples_options, metrics):\n",
    "#     # Initialize HDBSCAN with current parameters\n",
    "#     hdbscan_clusterer = hdbscan.HDBSCAN(min_cluster_size=min_cluster_size, min_samples=min_samples, metric=metric)\n",
    "#     clusters = hdbscan_clusterer.fit_predict(clustering_data_reduced)\n",
    "    \n",
    "#     # Evaluate if there are valid clusters\n",
    "#     clustered_data = clustering_data_reduced[clusters != -1]\n",
    "#     valid_clusters = clusters[clusters != -1]\n",
    "    \n",
    "#     if len(set(valid_clusters)) > 1:\n",
    "#         # Calculate Davies-Bouldin Index for current configuration\n",
    "#         db_index = davies_bouldin_score(clustered_data, valid_clusters)\n",
    "        \n",
    "#         # Keep track of best parameters\n",
    "#         if db_index < best_db_index:\n",
    "#             best_db_index = db_index\n",
    "#             best_params = {\n",
    "#                 'min_cluster_size': min_cluster_size,\n",
    "#                 'min_samples': min_samples,\n",
    "#                 'metric': metric,\n",
    "#                 'db_index': db_index,\n",
    "#             }\n",
    "\n",
    "#         # Calculate and print additional metrics for analysis\n",
    "#         ch_index = calinski_harabasz_score(clustered_data, valid_clusters)\n",
    "       \n",
    "#         print(f\"Params: min_cluster_size={min_cluster_size}, min_samples={min_samples}, metric={metric}\")\n",
    "#         print(f\"Davies-Bouldin Index: {db_index}, Calinski-Harabasz Index: {ch_index}\")\n",
    "\n",
    "# print(\"Best Parameters:\", best_params)"
   ]
  },
  {
   "cell_type": "markdown",
   "metadata": {},
   "source": [
    "### Lets use the optimal parameters for the HDBSCAN clustering model\n",
    "\n",
    "* min_cluster_size = 20: This means that the model will only form clusters with at least 20 points, helping to avoid very small, potentially noisy clusters.\n",
    "* min_samples = 20: Each core point in a cluster needs at least 20 neighbors within the defined metric space (here, Manhattan distance) to be considered a part of the cluster. This parameter helps in controlling the density required to form a cluster.\n",
    "* metric = 'manhattan': The model uses the Manhattan (or L1) distance, which calculates distance based on the absolute differences in feature values which is more suitable for data with a grid-like or spatial structure, and captures unique patterns in this dataset."
   ]
  },
  {
   "cell_type": "code",
   "execution_count": 22,
   "metadata": {
    "execution": {
     "iopub.execute_input": "2024-11-13T13:53:27.023291Z",
     "iopub.status.busy": "2024-11-13T13:53:27.022825Z",
     "iopub.status.idle": "2024-11-13T13:53:27.053718Z",
     "shell.execute_reply": "2024-11-13T13:53:27.052324Z",
     "shell.execute_reply.started": "2024-11-13T13:53:27.023233Z"
    },
    "trusted": true
   },
   "outputs": [
    {
     "data": {
      "text/html": [
       "<div>\n",
       "<style scoped>\n",
       "    .dataframe tbody tr th:only-of-type {\n",
       "        vertical-align: middle;\n",
       "    }\n",
       "\n",
       "    .dataframe tbody tr th {\n",
       "        vertical-align: top;\n",
       "    }\n",
       "\n",
       "    .dataframe thead th {\n",
       "        text-align: right;\n",
       "    }\n",
       "</style>\n",
       "<table border=\"1\" class=\"dataframe\">\n",
       "  <thead>\n",
       "    <tr style=\"text-align: right;\">\n",
       "      <th></th>\n",
       "      <th>Latitude</th>\n",
       "      <th>Longitude</th>\n",
       "      <th>Pop_Density_2000</th>\n",
       "      <th>Pop_Density_2001</th>\n",
       "      <th>Pop_Density_2002</th>\n",
       "      <th>Pop_Density_2003</th>\n",
       "      <th>Pop_Density_2004</th>\n",
       "      <th>Pop_Density_2005</th>\n",
       "      <th>Pop_Density_2006</th>\n",
       "      <th>Pop_Density_2007</th>\n",
       "      <th>...</th>\n",
       "      <th>Income_Trans Nzoia</th>\n",
       "      <th>Income_Turkana</th>\n",
       "      <th>Income_Uasin Gishu</th>\n",
       "      <th>Income_Vihiga</th>\n",
       "      <th>Income_Wajir</th>\n",
       "      <th>Income_West Pokot</th>\n",
       "      <th>PCA_Component_1</th>\n",
       "      <th>PCA_Component_2</th>\n",
       "      <th>Cluster</th>\n",
       "      <th>Stability_Score</th>\n",
       "    </tr>\n",
       "  </thead>\n",
       "  <tbody>\n",
       "    <tr>\n",
       "      <th>0</th>\n",
       "      <td>35.244583</td>\n",
       "      <td>5.462084</td>\n",
       "      <td>1.416720</td>\n",
       "      <td>1.396852</td>\n",
       "      <td>1.624173</td>\n",
       "      <td>1.924415</td>\n",
       "      <td>2.429911</td>\n",
       "      <td>2.503574</td>\n",
       "      <td>3.391726</td>\n",
       "      <td>3.823526</td>\n",
       "      <td>...</td>\n",
       "      <td>False</td>\n",
       "      <td>True</td>\n",
       "      <td>False</td>\n",
       "      <td>False</td>\n",
       "      <td>False</td>\n",
       "      <td>False</td>\n",
       "      <td>-1.472061</td>\n",
       "      <td>0.266045</td>\n",
       "      <td>330</td>\n",
       "      <td>1.0</td>\n",
       "    </tr>\n",
       "    <tr>\n",
       "      <th>1</th>\n",
       "      <td>35.252917</td>\n",
       "      <td>5.462084</td>\n",
       "      <td>1.413419</td>\n",
       "      <td>1.372664</td>\n",
       "      <td>1.583961</td>\n",
       "      <td>1.867518</td>\n",
       "      <td>2.361063</td>\n",
       "      <td>2.378553</td>\n",
       "      <td>3.223956</td>\n",
       "      <td>3.587913</td>\n",
       "      <td>...</td>\n",
       "      <td>False</td>\n",
       "      <td>True</td>\n",
       "      <td>False</td>\n",
       "      <td>False</td>\n",
       "      <td>False</td>\n",
       "      <td>False</td>\n",
       "      <td>-1.472296</td>\n",
       "      <td>0.266436</td>\n",
       "      <td>330</td>\n",
       "      <td>1.0</td>\n",
       "    </tr>\n",
       "    <tr>\n",
       "      <th>2</th>\n",
       "      <td>35.261250</td>\n",
       "      <td>5.462084</td>\n",
       "      <td>1.418887</td>\n",
       "      <td>1.330445</td>\n",
       "      <td>1.540141</td>\n",
       "      <td>1.809350</td>\n",
       "      <td>2.250990</td>\n",
       "      <td>2.280811</td>\n",
       "      <td>3.042585</td>\n",
       "      <td>3.314642</td>\n",
       "      <td>...</td>\n",
       "      <td>False</td>\n",
       "      <td>True</td>\n",
       "      <td>False</td>\n",
       "      <td>False</td>\n",
       "      <td>False</td>\n",
       "      <td>False</td>\n",
       "      <td>-1.472524</td>\n",
       "      <td>0.266547</td>\n",
       "      <td>330</td>\n",
       "      <td>1.0</td>\n",
       "    </tr>\n",
       "    <tr>\n",
       "      <th>3</th>\n",
       "      <td>35.269583</td>\n",
       "      <td>5.462084</td>\n",
       "      <td>1.457395</td>\n",
       "      <td>1.385305</td>\n",
       "      <td>1.572818</td>\n",
       "      <td>1.860333</td>\n",
       "      <td>2.281828</td>\n",
       "      <td>2.322971</td>\n",
       "      <td>3.142808</td>\n",
       "      <td>3.381774</td>\n",
       "      <td>...</td>\n",
       "      <td>False</td>\n",
       "      <td>True</td>\n",
       "      <td>False</td>\n",
       "      <td>False</td>\n",
       "      <td>False</td>\n",
       "      <td>False</td>\n",
       "      <td>-1.472746</td>\n",
       "      <td>0.266421</td>\n",
       "      <td>330</td>\n",
       "      <td>1.0</td>\n",
       "    </tr>\n",
       "    <tr>\n",
       "      <th>4</th>\n",
       "      <td>35.277917</td>\n",
       "      <td>5.462084</td>\n",
       "      <td>1.512301</td>\n",
       "      <td>1.383120</td>\n",
       "      <td>1.565848</td>\n",
       "      <td>1.837749</td>\n",
       "      <td>2.219377</td>\n",
       "      <td>2.283923</td>\n",
       "      <td>3.029301</td>\n",
       "      <td>3.247593</td>\n",
       "      <td>...</td>\n",
       "      <td>False</td>\n",
       "      <td>True</td>\n",
       "      <td>False</td>\n",
       "      <td>False</td>\n",
       "      <td>False</td>\n",
       "      <td>False</td>\n",
       "      <td>-1.472974</td>\n",
       "      <td>0.266547</td>\n",
       "      <td>330</td>\n",
       "      <td>1.0</td>\n",
       "    </tr>\n",
       "  </tbody>\n",
       "</table>\n",
       "<p>5 rows × 76 columns</p>\n",
       "</div>"
      ],
      "text/plain": [
       "    Latitude  Longitude  Pop_Density_2000  Pop_Density_2001  Pop_Density_2002  \\\n",
       "0  35.244583   5.462084          1.416720          1.396852          1.624173   \n",
       "1  35.252917   5.462084          1.413419          1.372664          1.583961   \n",
       "2  35.261250   5.462084          1.418887          1.330445          1.540141   \n",
       "3  35.269583   5.462084          1.457395          1.385305          1.572818   \n",
       "4  35.277917   5.462084          1.512301          1.383120          1.565848   \n",
       "\n",
       "   Pop_Density_2003  Pop_Density_2004  Pop_Density_2005  Pop_Density_2006  \\\n",
       "0          1.924415          2.429911          2.503574          3.391726   \n",
       "1          1.867518          2.361063          2.378553          3.223956   \n",
       "2          1.809350          2.250990          2.280811          3.042585   \n",
       "3          1.860333          2.281828          2.322971          3.142808   \n",
       "4          1.837749          2.219377          2.283923          3.029301   \n",
       "\n",
       "   Pop_Density_2007  ...  Income_Trans Nzoia  Income_Turkana  \\\n",
       "0          3.823526  ...               False            True   \n",
       "1          3.587913  ...               False            True   \n",
       "2          3.314642  ...               False            True   \n",
       "3          3.381774  ...               False            True   \n",
       "4          3.247593  ...               False            True   \n",
       "\n",
       "   Income_Uasin Gishu  Income_Vihiga  Income_Wajir  Income_West Pokot  \\\n",
       "0               False          False         False              False   \n",
       "1               False          False         False              False   \n",
       "2               False          False         False              False   \n",
       "3               False          False         False              False   \n",
       "4               False          False         False              False   \n",
       "\n",
       "   PCA_Component_1  PCA_Component_2  Cluster  Stability_Score  \n",
       "0        -1.472061         0.266045      330              1.0  \n",
       "1        -1.472296         0.266436      330              1.0  \n",
       "2        -1.472524         0.266547      330              1.0  \n",
       "3        -1.472746         0.266421      330              1.0  \n",
       "4        -1.472974         0.266547      330              1.0  \n",
       "\n",
       "[5 rows x 76 columns]"
      ]
     },
     "execution_count": 22,
     "metadata": {},
     "output_type": "execute_result"
    }
   ],
   "source": [
    "df.head()"
   ]
  },
  {
   "cell_type": "code",
   "execution_count": 23,
   "metadata": {
    "execution": {
     "iopub.execute_input": "2024-11-13T13:53:27.652451Z",
     "iopub.status.busy": "2024-11-13T13:53:27.651919Z",
     "iopub.status.idle": "2024-11-13T13:55:09.377851Z",
     "shell.execute_reply": "2024-11-13T13:55:09.376212Z",
     "shell.execute_reply.started": "2024-11-13T13:53:27.652403Z"
    },
    "trusted": true
   },
   "outputs": [],
   "source": [
    "# Apply HDBSCAN with optimal parameters\n",
    "hdbscan_clusterer = hdbscan.HDBSCAN(min_cluster_size=20, min_samples=20, metric='manhattan')\n",
    "clusters = hdbscan_clusterer.fit_predict(clustering_data_reduced)\n",
    "stability_scores = hdbscan_clusterer.probabilities_"
   ]
  },
  {
   "cell_type": "code",
   "execution_count": 24,
   "metadata": {
    "execution": {
     "iopub.execute_input": "2024-11-13T13:55:09.381211Z",
     "iopub.status.busy": "2024-11-13T13:55:09.380715Z",
     "iopub.status.idle": "2024-11-13T13:55:09.395084Z",
     "shell.execute_reply": "2024-11-13T13:55:09.393755Z",
     "shell.execute_reply.started": "2024-11-13T13:55:09.381157Z"
    },
    "trusted": true
   },
   "outputs": [],
   "source": [
    "# Add clusters and stability scores to the DataFrame\n",
    "df['Cluster'] = clusters\n",
    "df['Stability_Score'] = stability_scores"
   ]
  },
  {
   "cell_type": "code",
   "execution_count": 25,
   "metadata": {
    "execution": {
     "iopub.execute_input": "2024-11-13T13:55:09.398782Z",
     "iopub.status.busy": "2024-11-13T13:55:09.397188Z",
     "iopub.status.idle": "2024-11-13T13:55:09.450579Z",
     "shell.execute_reply": "2024-11-13T13:55:09.449341Z",
     "shell.execute_reply.started": "2024-11-13T13:55:09.398703Z"
    },
    "trusted": true
   },
   "outputs": [],
   "source": [
    "# Filter out noise points for evaluation metrics\n",
    "clustered_data = clustering_data_reduced[clusters != -1]\n",
    "valid_clusters = clusters[clusters != -1]"
   ]
  },
  {
   "cell_type": "code",
   "execution_count": 26,
   "metadata": {
    "execution": {
     "iopub.execute_input": "2024-11-13T13:55:09.454741Z",
     "iopub.status.busy": "2024-11-13T13:55:09.454195Z",
     "iopub.status.idle": "2024-11-13T13:55:41.493494Z",
     "shell.execute_reply": "2024-11-13T13:55:41.492015Z",
     "shell.execute_reply.started": "2024-11-13T13:55:09.454687Z"
    },
    "trusted": true
   },
   "outputs": [
    {
     "name": "stdout",
     "output_type": "stream",
     "text": [
      "Optimal Davies-Bouldin Index: 0.5085943800885435\n",
      "Optimal Calinski-Harabasz Index: 539123.966920015\n"
     ]
    }
   ],
   "source": [
    "# Calculate evaluation metrics if there are valid clusters\n",
    "if len(set(valid_clusters)) > 1:\n",
    "    db_index = davies_bouldin_score(clustered_data, valid_clusters)\n",
    "    ch_index = calinski_harabasz_score(clustered_data, valid_clusters)\n",
    "    print(\"Optimal Davies-Bouldin Index:\", db_index)\n",
    "    print(\"Optimal Calinski-Harabasz Index:\", ch_index)\n",
    "else:\n",
    "    print(\"Insufficient clusters for evaluation metrics\")"
   ]
  },
  {
   "cell_type": "code",
   "execution_count": 27,
   "metadata": {
    "execution": {
     "iopub.execute_input": "2024-11-13T13:55:41.495699Z",
     "iopub.status.busy": "2024-11-13T13:55:41.495239Z",
     "iopub.status.idle": "2024-11-13T13:55:58.385674Z",
     "shell.execute_reply": "2024-11-13T13:55:58.384204Z",
     "shell.execute_reply.started": "2024-11-13T13:55:41.495652Z"
    },
    "trusted": true
   },
   "outputs": [
    {
     "data": {
      "image/png": "[encoded data removed]",
      "text/plain": [
       "<Figure size 1000x600 with 2 Axes>"
      ]
     },
     "metadata": {},
     "output_type": "display_data"
    }
   ],
   "source": [
    "# Visualization of clustering results\n",
    "plt.figure(figsize=(10, 6))\n",
    "plt.scatter(df['PCA_Component_1'], df['PCA_Component_2'], c=clusters, cmap='viridis', s=5)\n",
    "plt.colorbar(label='Cluster')\n",
    "plt.xlabel('PCA Component 1')\n",
    "plt.ylabel('PCA Component 2')\n",
    "plt.title('HDBSCAN Clustering Results with Optimal Parameters')\n",
    "plt.show()"
   ]
  },
  {
   "cell_type": "markdown",
   "metadata": {},
   "source": [
    "### Findings\n",
    "* The visualization reveals distinct groupings of points based on the PCA-reduced data. Clusters appear compact and separated, which aligns with the favorable DBI score. This implies that the areas in the dataset are grouped into well-defined regions based on density.\n",
    "* Some points are scattered and appear isolated from any cluster in the visualization, likely labeled as noise (-1). These noise points are considered outliers by HDBSCAN. In the context of our project (Energy Access and Electrification Planning in Kenya), these points might represent regions with atypical characteristics where extending the grid or establishing microgrids could be inefficient.\n",
    "* Many clusters appear elongated or linear, which could imply correlations between features in the data. This linear structure indicates that certain features (e.g., population density, grid values) might be strongly correlated, influencing cluster shapes.\n",
    "* There are visually distinct groups of clusters, which might represent different types of regions in terms of development or density.This separation could help in identifying areas that are more suitable for microgrids due to their density characteristics.\n",
    "* HDBSCAN has grouped regions with similar density patterns. Clusters representing lower-density, geographically separated areas could be prime candidates for microgrid solutions, where extending a centralized power grid is less efficient. Here the microgrids might be more efficient.\n",
    "***\n",
    "*The clusters identified by HDBSCAN help pinpoint regions where microgrids could be more feasible. Lower-density clusters with less connectivity to high-density regions suggest areas that may benefit from decentralized energy solutions.*\n",
    "\n",
    "*The model labels some points as noise, indicating regions that are either too isolated or unique to fit into any cluster. These might require custom solutions, such as isolated power systems or further investigation to understand their unique characteristics.*"
   ]
  },
  {
   "cell_type": "markdown",
   "metadata": {},
   "source": [
    "## Cluster Analysis and Label Assignment"
   ]
  },
  {
   "cell_type": "code",
   "execution_count": 28,
   "metadata": {
    "execution": {
     "iopub.execute_input": "2024-11-13T13:55:58.388405Z",
     "iopub.status.busy": "2024-11-13T13:55:58.387797Z",
     "iopub.status.idle": "2024-11-13T13:56:27.006432Z",
     "shell.execute_reply": "2024-11-13T13:56:27.004826Z",
     "shell.execute_reply.started": "2024-11-13T13:55:58.388333Z"
    },
    "trusted": true
   },
   "outputs": [],
   "source": [
    "# rule-based labeling based on clusters\n",
    "df['Electrification_Label'] = df.apply(lambda row:\n",
    "    0 if row['Pop_Density_2020'] > 20 and row['Grid_Value'] > 0.5 else  # Likely suitable for grid extension\n",
    "    1 if row['Pop_Density_2020'] < 20 and row['Wind_Speed'] > 5 else    # Likely suitable for wind microgrid\n",
    "    2, axis=1)   "
   ]
  },
  {
   "cell_type": "markdown",
   "metadata": {},
   "source": [
    "### Train an MLP (Multi-Layer Perceptio) Model for Classification"
   ]
  },
  {
   "cell_type": "code",
   "execution_count": 31,
   "metadata": {
    "execution": {
     "iopub.execute_input": "2024-11-13T13:56:27.008524Z",
     "iopub.status.busy": "2024-11-13T13:56:27.008108Z",
     "iopub.status.idle": "2024-11-13T13:56:42.847327Z",
     "shell.execute_reply": "2024-11-13T13:56:42.845881Z",
     "shell.execute_reply.started": "2024-11-13T13:56:27.008480Z"
    },
    "trusted": true
   },
   "outputs": [],
   "source": [
    "from sklearn.model_selection import train_test_split\n",
    "from tensorflow.keras.models import Sequential\n",
    "from tensorflow.keras.layers import Dense\n",
    "from tensorflow.keras.utils import to_categorical"
   ]
  },
  {
   "cell_type": "code",
   "execution_count": 32,
   "metadata": {
    "execution": {
     "iopub.execute_input": "2024-11-13T13:56:42.849678Z",
     "iopub.status.busy": "2024-11-13T13:56:42.848895Z",
     "iopub.status.idle": "2024-11-13T13:56:43.389508Z",
     "shell.execute_reply": "2024-11-13T13:56:43.388010Z",
     "shell.execute_reply.started": "2024-11-13T13:56:42.849626Z"
    },
    "trusted": true
   },
   "outputs": [],
   "source": [
    "# Filter the data for classification\n",
    "classification_data = df[df['Electrification_Label'] != 2]  # Exclude \"further investigation\" regions for training\n",
    "X_classification = classification_data[['PCA_Component_1', 'PCA_Component_2']]\n",
    "y_classification = classification_data['Electrification_Label']\n",
    "y_encoded = to_categorical(y_classification)"
   ]
  },
  {
   "cell_type": "code",
   "execution_count": 33,
   "metadata": {
    "execution": {
     "iopub.execute_input": "2024-11-13T13:56:43.391883Z",
     "iopub.status.busy": "2024-11-13T13:56:43.391401Z",
     "iopub.status.idle": "2024-11-13T13:56:43.631404Z",
     "shell.execute_reply": "2024-11-13T13:56:43.630055Z",
     "shell.execute_reply.started": "2024-11-13T13:56:43.391835Z"
    },
    "trusted": true
   },
   "outputs": [],
   "source": [
    "# Split data into training and testing sets\n",
    "X_train, X_test, y_train, y_test = train_test_split(X_classification, y_encoded, test_size=0.4, random_state=42)"
   ]
  },
  {
   "cell_type": "code",
   "execution_count": 34,
   "metadata": {
    "execution": {
     "iopub.execute_input": "2024-11-13T13:56:43.636107Z",
     "iopub.status.busy": "2024-11-13T13:56:43.635672Z",
     "iopub.status.idle": "2024-11-13T13:56:43.739352Z",
     "shell.execute_reply": "2024-11-13T13:56:43.737750Z",
     "shell.execute_reply.started": "2024-11-13T13:56:43.636064Z"
    },
    "trusted": true
   },
   "outputs": [
    {
     "name": "stderr",
     "output_type": "stream",
     "text": [
      "c:\\Users\\DAVE\\anaconda3\\Lib\\site-packages\\keras\\src\\layers\\core\\dense.py:87: UserWarning: Do not pass an `input_shape`/`input_dim` argument to a layer. When using Sequential models, prefer using an `Input(shape)` object as the first layer in the model instead.\n",
      "  super().__init__(activity_regularizer=activity_regularizer, **kwargs)\n"
     ]
    }
   ],
   "source": [
    "# Build the MLP model\n",
    "model = Sequential()\n",
    "model.add(Dense(64, input_dim=X_train.shape[1], activation='relu'))\n",
    "model.add(Dense(32, activation='relu'))\n",
    "model.add(Dense(y_train.shape[1], activation='softmax'))"
   ]
  },
  {
   "cell_type": "code",
   "execution_count": 35,
   "metadata": {
    "execution": {
     "iopub.execute_input": "2024-11-13T13:56:43.741457Z",
     "iopub.status.busy": "2024-11-13T13:56:43.741058Z",
     "iopub.status.idle": "2024-11-13T13:56:43.757866Z",
     "shell.execute_reply": "2024-11-13T13:56:43.756360Z",
     "shell.execute_reply.started": "2024-11-13T13:56:43.741415Z"
    },
    "trusted": true
   },
   "outputs": [],
   "source": [
    "# Compile the model\n",
    "model.compile(loss='categorical_crossentropy', optimizer='adam', metrics=['accuracy'])"
   ]
  },
  {
   "cell_type": "code",
   "execution_count": 36,
   "metadata": {
    "execution": {
     "iopub.execute_input": "2024-11-13T13:56:43.760125Z",
     "iopub.status.busy": "2024-11-13T13:56:43.759573Z",
     "iopub.status.idle": "2024-11-13T14:42:50.366104Z",
     "shell.execute_reply": "2024-11-13T14:42:50.363973Z",
     "shell.execute_reply.started": "2024-11-13T13:56:43.760066Z"
    },
    "trusted": true
   },
   "outputs": [
    {
     "name": "stdout",
     "output_type": "stream",
     "text": [
      "Epoch 1/20\n",
      "\u001b[1m21723/21723\u001b[0m \u001b[32m━━━━━━━━━━━━━━━━━━━━\u001b[0m\u001b[37m\u001b[0m \u001b[1m109s\u001b[0m 5ms/step - accuracy: 0.8123 - loss: 0.3509 - val_accuracy: 0.8737 - val_loss: 0.2752\n",
      "Epoch 2/20\n",
      "\u001b[1m21723/21723\u001b[0m \u001b[32m━━━━━━━━━━━━━━━━━━━━\u001b[0m\u001b[37m\u001b[0m \u001b[1m145s\u001b[0m 5ms/step - accuracy: 0.8636 - loss: 0.2778 - val_accuracy: 0.8723 - val_loss: 0.2749\n",
      "Epoch 3/20\n",
      "\u001b[1m21723/21723\u001b[0m \u001b[32m━━━━━━━━━━━━━━━━━━━━\u001b[0m\u001b[37m\u001b[0m \u001b[1m105s\u001b[0m 5ms/step - accuracy: 0.8644 - loss: 0.2706 - val_accuracy: 0.8497 - val_loss: 0.2875\n",
      "Epoch 4/20\n",
      "\u001b[1m21723/21723\u001b[0m \u001b[32m━━━━━━━━━━━━━━━━━━━━\u001b[0m\u001b[37m\u001b[0m \u001b[1m95s\u001b[0m 4ms/step - accuracy: 0.8649 - loss: 0.2684 - val_accuracy: 0.8593 - val_loss: 0.2821\n",
      "Epoch 5/20\n",
      "\u001b[1m21723/21723\u001b[0m \u001b[32m━━━━━━━━━━━━━━━━━━━━\u001b[0m\u001b[37m\u001b[0m \u001b[1m118s\u001b[0m 5ms/step - accuracy: 0.8647 - loss: 0.2683 - val_accuracy: 0.8680 - val_loss: 0.2675\n",
      "Epoch 6/20\n",
      "\u001b[1m21723/21723\u001b[0m \u001b[32m━━━━━━━━━━━━━━━━━━━━\u001b[0m\u001b[37m\u001b[0m \u001b[1m97s\u001b[0m 4ms/step - accuracy: 0.8654 - loss: 0.2664 - val_accuracy: 0.8677 - val_loss: 0.2647\n",
      "Epoch 7/20\n",
      "\u001b[1m21723/21723\u001b[0m \u001b[32m━━━━━━━━━━━━━━━━━━━━\u001b[0m\u001b[37m\u001b[0m \u001b[1m96s\u001b[0m 4ms/step - accuracy: 0.8655 - loss: 0.2660 - val_accuracy: 0.8726 - val_loss: 0.2606\n",
      "Epoch 8/20\n",
      "\u001b[1m21723/21723\u001b[0m \u001b[32m━━━━━━━━━━━━━━━━━━━━\u001b[0m\u001b[37m\u001b[0m \u001b[1m101s\u001b[0m 5ms/step - accuracy: 0.8674 - loss: 0.2630 - val_accuracy: 0.8604 - val_loss: 0.2713\n",
      "Epoch 9/20\n",
      "\u001b[1m21723/21723\u001b[0m \u001b[32m━━━━━━━━━━━━━━━━━━━━\u001b[0m\u001b[37m\u001b[0m \u001b[1m118s\u001b[0m 5ms/step - accuracy: 0.8682 - loss: 0.2621 - val_accuracy: 0.8704 - val_loss: 0.2563\n",
      "Epoch 10/20\n",
      "\u001b[1m21723/21723\u001b[0m \u001b[32m━━━━━━━━━━━━━━━━━━━━\u001b[0m\u001b[37m\u001b[0m \u001b[1m107s\u001b[0m 5ms/step - accuracy: 0.8677 - loss: 0.2620 - val_accuracy: 0.8638 - val_loss: 0.2630\n",
      "Epoch 11/20\n",
      "\u001b[1m21723/21723\u001b[0m \u001b[32m━━━━━━━━━━━━━━━━━━━━\u001b[0m\u001b[37m\u001b[0m \u001b[1m191s\u001b[0m 7ms/step - accuracy: 0.8686 - loss: 0.2600 - val_accuracy: 0.8649 - val_loss: 0.2639\n",
      "Epoch 12/20\n",
      "\u001b[1m21723/21723\u001b[0m \u001b[32m━━━━━━━━━━━━━━━━━━━━\u001b[0m\u001b[37m\u001b[0m \u001b[1m161s\u001b[0m 7ms/step - accuracy: 0.8689 - loss: 0.2588 - val_accuracy: 0.8636 - val_loss: 0.2588\n",
      "Epoch 13/20\n",
      "\u001b[1m21723/21723\u001b[0m \u001b[32m━━━━━━━━━━━━━━━━━━━━\u001b[0m\u001b[37m\u001b[0m \u001b[1m165s\u001b[0m 8ms/step - accuracy: 0.8692 - loss: 0.2579 - val_accuracy: 0.8738 - val_loss: 0.2606\n",
      "Epoch 14/20\n",
      "\u001b[1m21723/21723\u001b[0m \u001b[32m━━━━━━━━━━━━━━━━━━━━\u001b[0m\u001b[37m\u001b[0m \u001b[1m169s\u001b[0m 6ms/step - accuracy: 0.8696 - loss: 0.2573 - val_accuracy: 0.8668 - val_loss: 0.2583\n",
      "Epoch 15/20\n",
      "\u001b[1m21723/21723\u001b[0m \u001b[32m━━━━━━━━━━━━━━━━━━━━\u001b[0m\u001b[37m\u001b[0m \u001b[1m134s\u001b[0m 6ms/step - accuracy: 0.8693 - loss: 0.2571 - val_accuracy: 0.8728 - val_loss: 0.2540\n",
      "Epoch 16/20\n",
      "\u001b[1m21723/21723\u001b[0m \u001b[32m━━━━━━━━━━━━━━━━━━━━\u001b[0m\u001b[37m\u001b[0m \u001b[1m140s\u001b[0m 6ms/step - accuracy: 0.8712 - loss: 0.2544 - val_accuracy: 0.8771 - val_loss: 0.2539\n",
      "Epoch 17/20\n",
      "\u001b[1m21723/21723\u001b[0m \u001b[32m━━━━━━━━━━━━━━━━━━━━\u001b[0m\u001b[37m\u001b[0m \u001b[1m137s\u001b[0m 6ms/step - accuracy: 0.8698 - loss: 0.2548 - val_accuracy: 0.8624 - val_loss: 0.2691\n",
      "Epoch 18/20\n",
      "\u001b[1m21723/21723\u001b[0m \u001b[32m━━━━━━━━━━━━━━━━━━━━\u001b[0m\u001b[37m\u001b[0m \u001b[1m136s\u001b[0m 6ms/step - accuracy: 0.8710 - loss: 0.2536 - val_accuracy: 0.8759 - val_loss: 0.2519\n",
      "Epoch 19/20\n",
      "\u001b[1m21723/21723\u001b[0m \u001b[32m━━━━━━━━━━━━━━━━━━━━\u001b[0m\u001b[37m\u001b[0m \u001b[1m138s\u001b[0m 6ms/step - accuracy: 0.8712 - loss: 0.2541 - val_accuracy: 0.8715 - val_loss: 0.2527\n",
      "Epoch 20/20\n",
      "\u001b[1m21723/21723\u001b[0m \u001b[32m━━━━━━━━━━━━━━━━━━━━\u001b[0m\u001b[37m\u001b[0m \u001b[1m196s\u001b[0m 9ms/step - accuracy: 0.8711 - loss: 0.2525 - val_accuracy: 0.8678 - val_loss: 0.2572\n"
     ]
    },
    {
     "data": {
      "text/plain": [
       "<keras.src.callbacks.history.History at 0x1d637b21bd0>"
      ]
     },
     "execution_count": 36,
     "metadata": {},
     "output_type": "execute_result"
    }
   ],
   "source": [
    "# Train the model\n",
    "model.fit(X_train, y_train, epochs=20, batch_size=32, validation_data=(X_test, y_test))"
   ]
  },
  {
   "cell_type": "code",
   "execution_count": 37,
   "metadata": {
    "execution": {
     "iopub.execute_input": "2024-11-13T14:42:50.370217Z",
     "iopub.status.busy": "2024-11-13T14:42:50.369588Z",
     "iopub.status.idle": "2024-11-13T14:43:09.263631Z",
     "shell.execute_reply": "2024-11-13T14:43:09.262181Z",
     "shell.execute_reply.started": "2024-11-13T14:42:50.370168Z"
    },
    "trusted": true
   },
   "outputs": [
    {
     "name": "stdout",
     "output_type": "stream",
     "text": [
      "\u001b[1m14482/14482\u001b[0m \u001b[32m━━━━━━━━━━━━━━━━━━━━\u001b[0m\u001b[37m\u001b[0m \u001b[1m99s\u001b[0m 7ms/step - accuracy: 0.8673 - loss: 0.2578\n",
      "Test Accuracy: 86.78%\n"
     ]
    }
   ],
   "source": [
    "# Evaluate the model\n",
    "loss, accuracy = model.evaluate(X_test, y_test)\n",
    "print(f\"Test Accuracy: {accuracy * 100:.2f}%\")"
   ]
  },
  {
   "cell_type": "markdown",
   "metadata": {},
   "source": [
    "## Save the Pipeline for Deployment\n",
    "Save the trained scaler, PCA, HDBSCAN model, and MLP model for future use."
   ]
  },
  {
   "cell_type": "code",
   "execution_count": 38,
   "metadata": {
    "execution": {
     "iopub.execute_input": "2024-11-13T14:43:19.729327Z",
     "iopub.status.busy": "2024-11-13T14:43:19.728741Z",
     "iopub.status.idle": "2024-11-13T14:43:20.020388Z",
     "shell.execute_reply": "2024-11-13T14:43:20.019184Z",
     "shell.execute_reply.started": "2024-11-13T14:43:19.729252Z"
    },
    "trusted": true
   },
   "outputs": [
    {
     "name": "stderr",
     "output_type": "stream",
     "text": [
      "WARNING:absl:You are saving your model as an HDF5 file via `model.save()` or `keras.saving.save_model(model)`. This file format is considered legacy. We recommend using instead the native Keras format, e.g. `model.save('my_model.keras')` or `keras.saving.save_model(model, 'my_model.keras')`. \n"
     ]
    }
   ],
   "source": [
    "import joblib\n",
    "\n",
    "# Save the scaler, PCA, and HDBSCAN model\n",
    "joblib.dump(scaler, 'scaler.pkl')\n",
    "joblib.dump(pca, 'pca.pkl')\n",
    "joblib.dump(hdbscan_clusterer, 'hdbscan_model.pkl')\n",
    "model.save(\"mlp_electrification_classifier.h5\")"
   ]
  }
 ],
 "metadata": {
  "kaggle": {
   "accelerator": "none",
   "dataSources": [
    {
     "datasetId": 6063661,
     "sourceId": 9876653,
     "sourceType": "datasetVersion"
    }
   ],
   "dockerImageVersionId": 30786,
   "isGpuEnabled": false,
   "isInternetEnabled": true,
   "language": "python",
   "sourceType": "notebook"
  },
  "kernelspec": {
   "display_name": "base",
   "language": "python",
   "name": "python3"
  },
  "language_info": {
   "codemirror_mode": {
    "name": "ipython",
    "version": 3
   },
   "file_extension": ".py",
   "mimetype": "text/x-python",
   "name": "python",
   "nbconvert_exporter": "python",
   "pygments_lexer": "ipython3",
   "version": "3.11.10"
  }
 },
 "nbformat": 4,
 "nbformat_minor": 4
}
