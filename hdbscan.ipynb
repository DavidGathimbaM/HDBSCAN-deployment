{
 "cells": [
  {
   "cell_type": "code",
   "execution_count": 8,
   "metadata": {},
   "outputs": [],
   "source": [
    "import numpy as np\n",
    "import pandas as pd\n",
    "from sklearn.preprocessing import StandardScaler\n",
    "from sklearn.decomposition import PCA\n",
    "import matplotlib.pyplot as plt\n",
    "import hdbscan\n",
    "from sklearn.metrics import silhouette_score, davies_bouldin_score, calinski_harabasz_score"
   ]
  },
  {
   "cell_type": "code",
   "execution_count": 9,
   "metadata": {},
   "outputs": [
    {
     "data": {
      "text/html": [
       "<div>\n",
       "<style scoped>\n",
       "    .dataframe tbody tr th:only-of-type {\n",
       "        vertical-align: middle;\n",
       "    }\n",
       "\n",
       "    .dataframe tbody tr th {\n",
       "        vertical-align: top;\n",
       "    }\n",
       "\n",
       "    .dataframe thead th {\n",
       "        text-align: right;\n",
       "    }\n",
       "</style>\n",
       "<table border=\"1\" class=\"dataframe\">\n",
       "  <thead>\n",
       "    <tr style=\"text-align: right;\">\n",
       "      <th></th>\n",
       "      <th>Latitude</th>\n",
       "      <th>Longitude</th>\n",
       "      <th>Pop_Density_2000</th>\n",
       "      <th>Pop_Density_2001</th>\n",
       "      <th>Pop_Density_2002</th>\n",
       "      <th>Pop_Density_2003</th>\n",
       "      <th>Pop_Density_2004</th>\n",
       "      <th>Pop_Density_2005</th>\n",
       "      <th>Pop_Density_2006</th>\n",
       "      <th>Pop_Density_2007</th>\n",
       "      <th>...</th>\n",
       "      <th>Pop_Density_2014</th>\n",
       "      <th>Pop_Density_2015</th>\n",
       "      <th>Pop_Density_2016</th>\n",
       "      <th>Pop_Density_2017</th>\n",
       "      <th>Pop_Density_2018</th>\n",
       "      <th>Pop_Density_2019</th>\n",
       "      <th>Pop_Density_2020</th>\n",
       "      <th>Wind_Speed</th>\n",
       "      <th>Grid_Value</th>\n",
       "      <th>Income_Distribution</th>\n",
       "    </tr>\n",
       "  </thead>\n",
       "  <tbody>\n",
       "    <tr>\n",
       "      <th>0</th>\n",
       "      <td>35.244583</td>\n",
       "      <td>5.462084</td>\n",
       "      <td>1.416720</td>\n",
       "      <td>1.396852</td>\n",
       "      <td>1.624173</td>\n",
       "      <td>1.924415</td>\n",
       "      <td>2.429911</td>\n",
       "      <td>2.503574</td>\n",
       "      <td>3.391726</td>\n",
       "      <td>3.823526</td>\n",
       "      <td>...</td>\n",
       "      <td>17.609232</td>\n",
       "      <td>18.419613</td>\n",
       "      <td>21.129835</td>\n",
       "      <td>26.949865</td>\n",
       "      <td>35.308475</td>\n",
       "      <td>39.717140</td>\n",
       "      <td>52.668011</td>\n",
       "      <td>6.410498</td>\n",
       "      <td>1.0</td>\n",
       "      <td>Turkana</td>\n",
       "    </tr>\n",
       "    <tr>\n",
       "      <th>1</th>\n",
       "      <td>35.252917</td>\n",
       "      <td>5.462084</td>\n",
       "      <td>1.413419</td>\n",
       "      <td>1.372664</td>\n",
       "      <td>1.583961</td>\n",
       "      <td>1.867518</td>\n",
       "      <td>2.361063</td>\n",
       "      <td>2.378553</td>\n",
       "      <td>3.223956</td>\n",
       "      <td>3.587913</td>\n",
       "      <td>...</td>\n",
       "      <td>15.599761</td>\n",
       "      <td>15.981864</td>\n",
       "      <td>17.861954</td>\n",
       "      <td>23.140518</td>\n",
       "      <td>29.548529</td>\n",
       "      <td>32.403442</td>\n",
       "      <td>42.566807</td>\n",
       "      <td>6.410498</td>\n",
       "      <td>1.0</td>\n",
       "      <td>Turkana</td>\n",
       "    </tr>\n",
       "    <tr>\n",
       "      <th>2</th>\n",
       "      <td>35.261250</td>\n",
       "      <td>5.462084</td>\n",
       "      <td>1.418887</td>\n",
       "      <td>1.330445</td>\n",
       "      <td>1.540141</td>\n",
       "      <td>1.809350</td>\n",
       "      <td>2.250990</td>\n",
       "      <td>2.280811</td>\n",
       "      <td>3.042585</td>\n",
       "      <td>3.314642</td>\n",
       "      <td>...</td>\n",
       "      <td>14.218251</td>\n",
       "      <td>14.787646</td>\n",
       "      <td>16.177166</td>\n",
       "      <td>21.212101</td>\n",
       "      <td>26.670294</td>\n",
       "      <td>29.277493</td>\n",
       "      <td>39.304050</td>\n",
       "      <td>6.410498</td>\n",
       "      <td>1.0</td>\n",
       "      <td>Turkana</td>\n",
       "    </tr>\n",
       "    <tr>\n",
       "      <th>3</th>\n",
       "      <td>35.269583</td>\n",
       "      <td>5.462084</td>\n",
       "      <td>1.457395</td>\n",
       "      <td>1.385305</td>\n",
       "      <td>1.572818</td>\n",
       "      <td>1.860333</td>\n",
       "      <td>2.281828</td>\n",
       "      <td>2.322971</td>\n",
       "      <td>3.142808</td>\n",
       "      <td>3.381774</td>\n",
       "      <td>...</td>\n",
       "      <td>14.553508</td>\n",
       "      <td>15.171118</td>\n",
       "      <td>16.479475</td>\n",
       "      <td>22.152906</td>\n",
       "      <td>27.807093</td>\n",
       "      <td>30.655039</td>\n",
       "      <td>41.851067</td>\n",
       "      <td>6.410498</td>\n",
       "      <td>1.0</td>\n",
       "      <td>Turkana</td>\n",
       "    </tr>\n",
       "    <tr>\n",
       "      <th>4</th>\n",
       "      <td>35.277917</td>\n",
       "      <td>5.462084</td>\n",
       "      <td>1.512301</td>\n",
       "      <td>1.383120</td>\n",
       "      <td>1.565848</td>\n",
       "      <td>1.837749</td>\n",
       "      <td>2.219377</td>\n",
       "      <td>2.283923</td>\n",
       "      <td>3.029301</td>\n",
       "      <td>3.247593</td>\n",
       "      <td>...</td>\n",
       "      <td>13.881150</td>\n",
       "      <td>14.152464</td>\n",
       "      <td>15.410886</td>\n",
       "      <td>20.551128</td>\n",
       "      <td>25.901073</td>\n",
       "      <td>28.307270</td>\n",
       "      <td>38.238289</td>\n",
       "      <td>6.410498</td>\n",
       "      <td>1.0</td>\n",
       "      <td>Turkana</td>\n",
       "    </tr>\n",
       "  </tbody>\n",
       "</table>\n",
       "<p>5 rows × 26 columns</p>\n",
       "</div>"
      ],
      "text/plain": [
       "    Latitude  Longitude  Pop_Density_2000  Pop_Density_2001  Pop_Density_2002  \\\n",
       "0  35.244583   5.462084          1.416720          1.396852          1.624173   \n",
       "1  35.252917   5.462084          1.413419          1.372664          1.583961   \n",
       "2  35.261250   5.462084          1.418887          1.330445          1.540141   \n",
       "3  35.269583   5.462084          1.457395          1.385305          1.572818   \n",
       "4  35.277917   5.462084          1.512301          1.383120          1.565848   \n",
       "\n",
       "   Pop_Density_2003  Pop_Density_2004  Pop_Density_2005  Pop_Density_2006  \\\n",
       "0          1.924415          2.429911          2.503574          3.391726   \n",
       "1          1.867518          2.361063          2.378553          3.223956   \n",
       "2          1.809350          2.250990          2.280811          3.042585   \n",
       "3          1.860333          2.281828          2.322971          3.142808   \n",
       "4          1.837749          2.219377          2.283923          3.029301   \n",
       "\n",
       "   Pop_Density_2007  ...  Pop_Density_2014  Pop_Density_2015  \\\n",
       "0          3.823526  ...         17.609232         18.419613   \n",
       "1          3.587913  ...         15.599761         15.981864   \n",
       "2          3.314642  ...         14.218251         14.787646   \n",
       "3          3.381774  ...         14.553508         15.171118   \n",
       "4          3.247593  ...         13.881150         14.152464   \n",
       "\n",
       "   Pop_Density_2016  Pop_Density_2017  Pop_Density_2018  Pop_Density_2019  \\\n",
       "0         21.129835         26.949865         35.308475         39.717140   \n",
       "1         17.861954         23.140518         29.548529         32.403442   \n",
       "2         16.177166         21.212101         26.670294         29.277493   \n",
       "3         16.479475         22.152906         27.807093         30.655039   \n",
       "4         15.410886         20.551128         25.901073         28.307270   \n",
       "\n",
       "   Pop_Density_2020  Wind_Speed  Grid_Value  Income_Distribution  \n",
       "0         52.668011    6.410498         1.0              Turkana  \n",
       "1         42.566807    6.410498         1.0              Turkana  \n",
       "2         39.304050    6.410498         1.0              Turkana  \n",
       "3         41.851067    6.410498         1.0              Turkana  \n",
       "4         38.238289    6.410498         1.0              Turkana  \n",
       "\n",
       "[5 rows x 26 columns]"
      ]
     },
     "execution_count": 9,
     "metadata": {},
     "output_type": "execute_result"
    }
   ],
   "source": [
    "df = pd.read_csv(\"final_merged_df.csv\")\n",
    "df.head()"
   ]
  },
  {
   "cell_type": "code",
   "execution_count": 10,
   "metadata": {},
   "outputs": [
    {
     "data": {
      "text/plain": [
       "Latitude               0\n",
       "Longitude              0\n",
       "Pop_Density_2000       0\n",
       "Pop_Density_2001       0\n",
       "Pop_Density_2002       0\n",
       "Pop_Density_2003       0\n",
       "Pop_Density_2004       0\n",
       "Pop_Density_2005       0\n",
       "Pop_Density_2006       0\n",
       "Pop_Density_2007       0\n",
       "Pop_Density_2008       0\n",
       "Pop_Density_2009       0\n",
       "Pop_Density_2010       0\n",
       "Pop_Density_2011       0\n",
       "Pop_Density_2012       0\n",
       "Pop_Density_2013       0\n",
       "Pop_Density_2014       0\n",
       "Pop_Density_2015       0\n",
       "Pop_Density_2016       0\n",
       "Pop_Density_2017       0\n",
       "Pop_Density_2018       0\n",
       "Pop_Density_2019       0\n",
       "Pop_Density_2020       0\n",
       "Wind_Speed             0\n",
       "Grid_Value             0\n",
       "Income_Distribution    0\n",
       "dtype: int64"
      ]
     },
     "execution_count": 10,
     "metadata": {},
     "output_type": "execute_result"
    }
   ],
   "source": [
    "missing_values = df.isnull().sum()\n",
    "missing_values"
   ]
  },
  {
   "cell_type": "markdown",
   "metadata": {},
   "source": [
    "## **HDBSCAN**"
   ]
  },
  {
   "cell_type": "markdown",
   "metadata": {},
   "source": [
    "### **Identify regions with sparse development where extending the grid is inefficient but wind microgrids could be feasible.**"
   ]
  },
  {
   "cell_type": "markdown",
   "metadata": {},
   "source": [
    "* Since HDBSCAN is a density-based algorithm,the clustering approach effectively groups areas based on density and other characteristics.\n",
    "* These clusters help indicate areas where extending the main grid might be inefficient, making them candidates for decentralized energy solutions, like wind or solar microgrids.\n",
    "* This algorithm is valuable for identifying potential zones for alternative energy solutions based on current density and infrastructure access patterns."
   ]
  },
  {
   "cell_type": "code",
   "execution_count": 11,
   "metadata": {},
   "outputs": [],
   "source": [
    "# One-hot encode 'Income_Distribution' if it's categorical\n",
    "df = pd.get_dummies(df, columns=['Income_Distribution'], prefix='Income')"
   ]
  },
  {
   "cell_type": "markdown",
   "metadata": {},
   "source": [
    "#### **Subset Sampling for Exploration**\n",
    "##### Save subsets of the data to analyze specific portions or store them separately for additional exploration or testing.\n"
   ]
  },
  {
   "cell_type": "code",
   "execution_count": 12,
   "metadata": {},
   "outputs": [],
   "source": [
    "n=250000\n",
    "m = 2500\n",
    "s = 5012\n",
    "e = 178934\n",
    "j = 2500\n",
    "df_1=df.head(j)\n",
    "df_2 = df.tail(m)\n",
    "df_3=df.iloc[s:e]\n",
    "df_4=df.sample(n=n)"
   ]
  },
  {
   "cell_type": "code",
   "execution_count": 13,
   "metadata": {},
   "outputs": [],
   "source": [
    "# df_1.to_csv(\"../first_2500_rows.csv\")\n",
    "# df_2.to_csv(\"../last_2500_rows.cvs\")\n",
    "df_3.to_csv(\"middle_rows.csv\")\n",
    "df_4.to_csv(\"random_rows.csv\")"
   ]
  },
  {
   "cell_type": "code",
   "execution_count": 14,
   "metadata": {},
   "outputs": [],
   "source": [
    "df.to_csv(\"../test.csv\")"
   ]
  },
  {
   "cell_type": "markdown",
   "metadata": {},
   "source": [
    "### **Data Preparation for Clustering**\n",
    "Select the relevant columns, including one-hot encoded income columns, for clustering."
   ]
  },
  {
   "cell_type": "code",
   "execution_count": 15,
   "metadata": {},
   "outputs": [],
   "source": [
    "# The one-hot encoded columns starting with \"Income_\"should be included\n",
    "income_columns = [col for col in df.columns if col.startswith('Income_')]\n",
    "clustering_data = df[['Pop_Density_2020', 'Wind_Speed', 'Latitude', 'Longitude', 'Grid_Value'] + income_columns]"
   ]
  },
  {
   "cell_type": "markdown",
   "metadata": {},
   "source": [
    "### **Standardize Features**\n",
    "Standardize the data to bring all features to a similar scale, ensuring they contribute equally to clustering.\n"
   ]
  },
  {
   "cell_type": "code",
   "execution_count": 16,
   "metadata": {},
   "outputs": [],
   "source": [
    "# Standardize the data to bring all features to a similar scale\n",
    "scaler = StandardScaler()\n",
    "clustering_data_scaled = scaler.fit_transform(clustering_data)"
   ]
  },
  {
   "cell_type": "markdown",
   "metadata": {},
   "source": [
    "**Apply PCA for Dimensionality Reduction**\n",
    "\n",
    "Reduce to 2 components for visualization and efficiency. This helps capture the primary data variance in fewer dimensions."
   ]
  },
  {
   "cell_type": "code",
   "execution_count": 17,
   "metadata": {},
   "outputs": [],
   "source": [
    "# Apply PCA to reduce to a manageable number of components\n",
    "pca = PCA(n_components=2)  # Adjust to 2 components for efficient clustering\n",
    "clustering_data_reduced = pca.fit_transform(clustering_data_scaled)"
   ]
  },
  {
   "cell_type": "markdown",
   "metadata": {},
   "source": [
    "Add PCA components back to the DataFrame for easier access during visualization and further analysis\n"
   ]
  },
  {
   "cell_type": "code",
   "execution_count": 18,
   "metadata": {},
   "outputs": [],
   "source": [
    "# Add PCA components back to the DataFrame\n",
    "df['PCA_Component_1'] = clustering_data_reduced[:, 0]\n",
    "df['PCA_Component_2'] = clustering_data_reduced[:, 1]"
   ]
  },
  {
   "cell_type": "markdown",
   "metadata": {},
   "source": [
    "### **HDBSCAN Clustering with Initial Parameters**\n",
    "Initialize and fit the HDBSCAN model with chosen parameters, designed to identify natural clusters in the data.\n"
   ]
  },
  {
   "cell_type": "code",
   "execution_count": 19,
   "metadata": {},
   "outputs": [],
   "source": [
    "# HDBSCAN clustering with optimized parameters\n",
    "hdbscan_clusterer = hdbscan.HDBSCAN(metric='manhattan', min_samples=10, min_cluster_size=50)\n",
    "clusters = hdbscan_clusterer.fit_predict(clustering_data_reduced)\n",
    "stability_scores = hdbscan_clusterer.probabilities_"
   ]
  },
  {
   "cell_type": "markdown",
   "metadata": {},
   "source": [
    "Add clusters and stability scores to the DataFrame"
   ]
  },
  {
   "cell_type": "code",
   "execution_count": 20,
   "metadata": {},
   "outputs": [],
   "source": [
    "# Add clusters and stability scores back to the original DataFrame\n",
    "df['Cluster'] = clusters\n",
    "df['Stability_Score'] = stability_scores"
   ]
  },
  {
   "cell_type": "markdown",
   "metadata": {},
   "source": [
    "### **Evaluate Clustering Quality**\n",
    "Calculate clustering metrics for evaluation, excluding noise points labeled as -1."
   ]
  },
  {
   "cell_type": "code",
   "execution_count": 22,
   "metadata": {},
   "outputs": [],
   "source": [
    "# Filter out noise points (-1 label in HDBSCAN) before calculating metrics\n",
    "clustered_data = clustering_data_reduced[clusters != -1]\n",
    "valid_clusters = clusters[clusters != -1]"
   ]
  },
  {
   "cell_type": "code",
   "execution_count": 24,
   "metadata": {},
   "outputs": [
    {
     "name": "stdout",
     "output_type": "stream",
     "text": [
      "Davies-Bouldin Index: 0.8726505828098783\n",
      "Calinski-Harabasz Index: 590833.6193787968\n",
      "Cluster Labels: [ 324  324  324 ...  570 1199 1199]\n",
      "Cluster Stability Scores: [0.70920811 1.         1.         ... 0.04446173 0.88624844 0.88624844]\n"
     ]
    }
   ],
   "source": [
    "if len(set(valid_clusters)) > 1:  # Ensure there's more than one cluster for evaluation\n",
    "    db_index = davies_bouldin_score(clustered_data, valid_clusters)\n",
    "    ch_index = calinski_harabasz_score(clustered_data, valid_clusters)\n",
    "    print(\"Davies-Bouldin Index:\", db_index)\n",
    "    print(\"Calinski-Harabasz Index:\", ch_index)\n",
    "else:\n",
    "    print(\"Insufficient clusters for evaluation metrics\")\n",
    "\n",
    "# Print stability scores and cluster labels\n",
    "print(\"Cluster Labels:\", clusters)\n",
    "print(\"Cluster Stability Scores:\", stability_scores)"
   ]
  },
  {
   "cell_type": "markdown",
   "metadata": {},
   "source": [
    "### **Cluster Visualization**\n",
    "Visualize the clusters on the two PCA components to understand the data's clustering structure.\n"
   ]
  },
  {
   "cell_type": "code",
   "execution_count": 25,
   "metadata": {},
   "outputs": [
    {
     "data": {
      "image/png": "[encoded data removed]",
      "text/plain": [
       "<Figure size 1000x600 with 2 Axes>"
      ]
     },
     "metadata": {},
     "output_type": "display_data"
    }
   ],
   "source": [
    "# Visualize clustering results\n",
    "plt.figure(figsize=(10, 6))\n",
    "plt.scatter(clustering_data_reduced[:, 0], clustering_data_reduced[:, 1], c=clusters, cmap='viridis', s=5)\n",
    "plt.colorbar(label='Cluster')\n",
    "plt.xlabel('PCA Component 1')\n",
    "plt.ylabel('PCA Component 2')\n",
    "plt.title('HDBSCAN Clustering Results on Full Dataset')\n",
    "plt.show()"
   ]
  },
  {
   "cell_type": "markdown",
   "metadata": {},
   "source": [
    "#### **Fine-Tuning with Grid Search**\n",
    "Explore various combinations of HDBSCAN parameters to optimize clustering performance.\n"
   ]
  },
  {
   "cell_type": "code",
   "execution_count": 26,
   "metadata": {},
   "outputs": [],
   "source": [
    "import itertools"
   ]
  },
  {
   "cell_type": "code",
   "execution_count": 27,
   "metadata": {},
   "outputs": [],
   "source": [
    "# Define parameter grid\n",
    "min_cluster_sizes = [20, 50, 100]\n",
    "min_samples_options = [5, 10, 20]\n",
    "metrics = ['euclidean', 'manhattan']"
   ]
  },
  {
   "cell_type": "code",
   "execution_count": 28,
   "metadata": {},
   "outputs": [],
   "source": [
    "# Store results\n",
    "best_params = {}\n",
    "best_db_index = float('inf')"
   ]
  },
  {
   "cell_type": "code",
   "execution_count": 29,
   "metadata": {},
   "outputs": [
    {
     "name": "stdout",
     "output_type": "stream",
     "text": [
      "Params: min_cluster_size=20, min_samples=5, metric=euclidean\n",
      "Davies-Bouldin Index: 0.9989813659757685, Calinski-Harabasz Index: 3481890.795798418\n",
      "Params: min_cluster_size=20, min_samples=5, metric=manhattan\n",
      "Davies-Bouldin Index: 0.9428089069830865, Calinski-Harabasz Index: 2984737.271806233\n",
      "Params: min_cluster_size=20, min_samples=10, metric=euclidean\n",
      "Davies-Bouldin Index: 0.7505349037492813, Calinski-Harabasz Index: 3275152.675368613\n",
      "Params: min_cluster_size=20, min_samples=10, metric=manhattan\n",
      "Davies-Bouldin Index: 0.7178399911099985, Calinski-Harabasz Index: 2132415.6088253213\n",
      "Params: min_cluster_size=20, min_samples=20, metric=euclidean\n",
      "Davies-Bouldin Index: 0.5235453189749477, Calinski-Harabasz Index: 2065084.4183246084\n",
      "Params: min_cluster_size=20, min_samples=20, metric=manhattan\n",
      "Davies-Bouldin Index: 0.5166719590367846, Calinski-Harabasz Index: 2699513.643280452\n",
      "Params: min_cluster_size=50, min_samples=5, metric=euclidean\n",
      "Davies-Bouldin Index: 1.0742720682684184, Calinski-Harabasz Index: 413602.85220082744\n",
      "Params: min_cluster_size=50, min_samples=5, metric=manhattan\n",
      "Davies-Bouldin Index: 1.0221556967114478, Calinski-Harabasz Index: 485306.39172312716\n",
      "Params: min_cluster_size=50, min_samples=10, metric=euclidean\n",
      "Davies-Bouldin Index: 0.8521059495987723, Calinski-Harabasz Index: 491002.13708273094\n",
      "Params: min_cluster_size=50, min_samples=10, metric=manhattan\n",
      "Davies-Bouldin Index: 0.8726505828098783, Calinski-Harabasz Index: 590833.6193787968\n",
      "Params: min_cluster_size=50, min_samples=20, metric=euclidean\n",
      "Davies-Bouldin Index: 0.6377744564113877, Calinski-Harabasz Index: 474108.2729843523\n",
      "Params: min_cluster_size=50, min_samples=20, metric=manhattan\n",
      "Davies-Bouldin Index: 0.5812553364309294, Calinski-Harabasz Index: 627548.3977497469\n",
      "Params: min_cluster_size=100, min_samples=5, metric=euclidean\n",
      "Davies-Bouldin Index: 1.2197079781591844, Calinski-Harabasz Index: 684840.0441815783\n",
      "Params: min_cluster_size=100, min_samples=5, metric=manhattan\n",
      "Davies-Bouldin Index: 1.1692730654838963, Calinski-Harabasz Index: 777193.2842514579\n",
      "Params: min_cluster_size=100, min_samples=10, metric=euclidean\n",
      "Davies-Bouldin Index: 0.9182022503967122, Calinski-Harabasz Index: 672898.9481453417\n",
      "Params: min_cluster_size=100, min_samples=10, metric=manhattan\n",
      "Davies-Bouldin Index: 0.9037796428396929, Calinski-Harabasz Index: 716181.5198856643\n",
      "Params: min_cluster_size=100, min_samples=20, metric=euclidean\n",
      "Davies-Bouldin Index: 0.7510101312961682, Calinski-Harabasz Index: 706711.4154123374\n",
      "Params: min_cluster_size=100, min_samples=20, metric=manhattan\n",
      "Davies-Bouldin Index: 0.6644354029011268, Calinski-Harabasz Index: 807570.8411724211\n",
      "Best Parameters: {'min_cluster_size': 20, 'min_samples': 20, 'metric': 'manhattan', 'db_index': 0.5166719590367846}\n"
     ]
    }
   ],
   "source": [
    "for min_cluster_size, min_samples, metric in itertools.product(min_cluster_sizes, min_samples_options, metrics):\n",
    "    # Initialize HDBSCAN with current parameters\n",
    "    hdbscan_clusterer = hdbscan.HDBSCAN(min_cluster_size=min_cluster_size, min_samples=min_samples, metric=metric)\n",
    "    clusters = hdbscan_clusterer.fit_predict(clustering_data_reduced)\n",
    "    \n",
    "    # Evaluate if there are valid clusters\n",
    "    clustered_data = clustering_data_reduced[clusters != -1]\n",
    "    valid_clusters = clusters[clusters != -1]\n",
    "    \n",
    "    if len(set(valid_clusters)) > 1:\n",
    "        # Calculate Davies-Bouldin Index for current configuration\n",
    "        db_index = davies_bouldin_score(clustered_data, valid_clusters)\n",
    "        \n",
    "        # Keep track of best parameters\n",
    "        if db_index < best_db_index:\n",
    "            best_db_index = db_index\n",
    "            best_params = {\n",
    "                'min_cluster_size': min_cluster_size,\n",
    "                'min_samples': min_samples,\n",
    "                'metric': metric,\n",
    "                'db_index': db_index,\n",
    "            }\n",
    "\n",
    "        # Calculate and print additional metrics for analysis\n",
    "        ch_index = calinski_harabasz_score(clustered_data, valid_clusters)\n",
    "       \n",
    "        print(f\"Params: min_cluster_size={min_cluster_size}, min_samples={min_samples}, metric={metric}\")\n",
    "        print(f\"Davies-Bouldin Index: {db_index}, Calinski-Harabasz Index: {ch_index}\")\n",
    "\n",
    "print(\"Best Parameters:\", best_params)"
   ]
  },
  {
   "cell_type": "markdown",
   "metadata": {},
   "source": [
    "### **Save the Model and Transformers**\n",
    "Save the trained scaler, PCA, and HDBSCAN model to files for future use or deployment.\n"
   ]
  },
  {
   "cell_type": "code",
   "execution_count": 30,
   "metadata": {},
   "outputs": [],
   "source": [
    "# import joblib\n",
    "\n",
    "# # Save the scaler, PCA, and HDBSCAN model\n",
    "# joblib.dump(scaler, 'scaler.pkl')\n",
    "# joblib.dump(pca, 'pca.pkl')\n",
    "# joblib.dump(hdbscan_clusterer, 'hdbscan_model.pkl')"
   ]
  },
  {
   "cell_type": "code",
   "execution_count": null,
   "metadata": {},
   "outputs": [],
   "source": []
  },
  {
   "cell_type": "code",
   "execution_count": null,
   "metadata": {},
   "outputs": [],
   "source": []
  }
 ],
 "metadata": {
  "kernelspec": {
   "display_name": "base",
   "language": "python",
   "name": "python3"
  },
  "language_info": {
   "codemirror_mode": {
    "name": "ipython",
    "version": 3
   },
   "file_extension": ".py",
   "mimetype": "text/x-python",
   "name": "python",
   "nbconvert_exporter": "python",
   "pygments_lexer": "ipython3",
   "version": "3.11.10"
  }
 },
 "nbformat": 4,
 "nbformat_minor": 2
}
