{
 "cells": [
  {
   "cell_type": "code",
   "execution_count": 1,
   "metadata": {},
   "outputs": [],
   "source": [
    "import numpy as np\n",
    "import pandas as pd\n",
    "from sklearn.preprocessing import StandardScaler\n",
    "from sklearn.decomposition import PCA\n",
    "from sklearn.preprocessing import LabelEncoder\n",
    "import matplotlib.pyplot as plt\n",
    "import hdbscan\n",
    "from sklearn.metrics import silhouette_score, davies_bouldin_score, calinski_harabasz_score"
   ]
  },
  {
   "cell_type": "code",
   "execution_count": 2,
   "metadata": {},
   "outputs": [
    {
     "data": {
      "text/html": [
       "<div>\n",
       "<style scoped>\n",
       "    .dataframe tbody tr th:only-of-type {\n",
       "        vertical-align: middle;\n",
       "    }\n",
       "\n",
       "    .dataframe tbody tr th {\n",
       "        vertical-align: top;\n",
       "    }\n",
       "\n",
       "    .dataframe thead th {\n",
       "        text-align: right;\n",
       "    }\n",
       "</style>\n",
       "<table border=\"1\" class=\"dataframe\">\n",
       "  <thead>\n",
       "    <tr style=\"text-align: right;\">\n",
       "      <th></th>\n",
       "      <th>Latitude</th>\n",
       "      <th>Longitude</th>\n",
       "      <th>Pop_Density_2000</th>\n",
       "      <th>Pop_Density_2001</th>\n",
       "      <th>Pop_Density_2002</th>\n",
       "      <th>Pop_Density_2003</th>\n",
       "      <th>Pop_Density_2004</th>\n",
       "      <th>Pop_Density_2005</th>\n",
       "      <th>Pop_Density_2006</th>\n",
       "      <th>Pop_Density_2007</th>\n",
       "      <th>...</th>\n",
       "      <th>Pop_Density_2014</th>\n",
       "      <th>Pop_Density_2015</th>\n",
       "      <th>Pop_Density_2016</th>\n",
       "      <th>Pop_Density_2017</th>\n",
       "      <th>Pop_Density_2018</th>\n",
       "      <th>Pop_Density_2019</th>\n",
       "      <th>Pop_Density_2020</th>\n",
       "      <th>Wind_Speed</th>\n",
       "      <th>Grid_Value</th>\n",
       "      <th>Income_Distribution</th>\n",
       "    </tr>\n",
       "  </thead>\n",
       "  <tbody>\n",
       "    <tr>\n",
       "      <th>0</th>\n",
       "      <td>35.244583</td>\n",
       "      <td>5.462084</td>\n",
       "      <td>1.416720</td>\n",
       "      <td>1.396852</td>\n",
       "      <td>1.624173</td>\n",
       "      <td>1.924415</td>\n",
       "      <td>2.429911</td>\n",
       "      <td>2.503574</td>\n",
       "      <td>3.391726</td>\n",
       "      <td>3.823526</td>\n",
       "      <td>...</td>\n",
       "      <td>17.609232</td>\n",
       "      <td>18.419613</td>\n",
       "      <td>21.129835</td>\n",
       "      <td>26.949865</td>\n",
       "      <td>35.308475</td>\n",
       "      <td>39.717140</td>\n",
       "      <td>52.668011</td>\n",
       "      <td>6.410498</td>\n",
       "      <td>1.0</td>\n",
       "      <td>Turkana</td>\n",
       "    </tr>\n",
       "    <tr>\n",
       "      <th>1</th>\n",
       "      <td>35.252917</td>\n",
       "      <td>5.462084</td>\n",
       "      <td>1.413419</td>\n",
       "      <td>1.372664</td>\n",
       "      <td>1.583961</td>\n",
       "      <td>1.867518</td>\n",
       "      <td>2.361063</td>\n",
       "      <td>2.378553</td>\n",
       "      <td>3.223956</td>\n",
       "      <td>3.587913</td>\n",
       "      <td>...</td>\n",
       "      <td>15.599761</td>\n",
       "      <td>15.981864</td>\n",
       "      <td>17.861954</td>\n",
       "      <td>23.140518</td>\n",
       "      <td>29.548529</td>\n",
       "      <td>32.403442</td>\n",
       "      <td>42.566807</td>\n",
       "      <td>6.410498</td>\n",
       "      <td>1.0</td>\n",
       "      <td>Turkana</td>\n",
       "    </tr>\n",
       "    <tr>\n",
       "      <th>2</th>\n",
       "      <td>35.261250</td>\n",
       "      <td>5.462084</td>\n",
       "      <td>1.418887</td>\n",
       "      <td>1.330445</td>\n",
       "      <td>1.540141</td>\n",
       "      <td>1.809350</td>\n",
       "      <td>2.250990</td>\n",
       "      <td>2.280811</td>\n",
       "      <td>3.042585</td>\n",
       "      <td>3.314642</td>\n",
       "      <td>...</td>\n",
       "      <td>14.218251</td>\n",
       "      <td>14.787646</td>\n",
       "      <td>16.177166</td>\n",
       "      <td>21.212101</td>\n",
       "      <td>26.670294</td>\n",
       "      <td>29.277493</td>\n",
       "      <td>39.304050</td>\n",
       "      <td>6.410498</td>\n",
       "      <td>1.0</td>\n",
       "      <td>Turkana</td>\n",
       "    </tr>\n",
       "    <tr>\n",
       "      <th>3</th>\n",
       "      <td>35.269583</td>\n",
       "      <td>5.462084</td>\n",
       "      <td>1.457395</td>\n",
       "      <td>1.385305</td>\n",
       "      <td>1.572818</td>\n",
       "      <td>1.860333</td>\n",
       "      <td>2.281828</td>\n",
       "      <td>2.322971</td>\n",
       "      <td>3.142808</td>\n",
       "      <td>3.381774</td>\n",
       "      <td>...</td>\n",
       "      <td>14.553508</td>\n",
       "      <td>15.171118</td>\n",
       "      <td>16.479475</td>\n",
       "      <td>22.152906</td>\n",
       "      <td>27.807093</td>\n",
       "      <td>30.655039</td>\n",
       "      <td>41.851067</td>\n",
       "      <td>6.410498</td>\n",
       "      <td>1.0</td>\n",
       "      <td>Turkana</td>\n",
       "    </tr>\n",
       "    <tr>\n",
       "      <th>4</th>\n",
       "      <td>35.277917</td>\n",
       "      <td>5.462084</td>\n",
       "      <td>1.512301</td>\n",
       "      <td>1.383120</td>\n",
       "      <td>1.565848</td>\n",
       "      <td>1.837749</td>\n",
       "      <td>2.219377</td>\n",
       "      <td>2.283923</td>\n",
       "      <td>3.029301</td>\n",
       "      <td>3.247593</td>\n",
       "      <td>...</td>\n",
       "      <td>13.881150</td>\n",
       "      <td>14.152464</td>\n",
       "      <td>15.410886</td>\n",
       "      <td>20.551128</td>\n",
       "      <td>25.901073</td>\n",
       "      <td>28.307270</td>\n",
       "      <td>38.238289</td>\n",
       "      <td>6.410498</td>\n",
       "      <td>1.0</td>\n",
       "      <td>Turkana</td>\n",
       "    </tr>\n",
       "  </tbody>\n",
       "</table>\n",
       "<p>5 rows × 26 columns</p>\n",
       "</div>"
      ],
      "text/plain": [
       "    Latitude  Longitude  Pop_Density_2000  Pop_Density_2001  Pop_Density_2002  \\\n",
       "0  35.244583   5.462084          1.416720          1.396852          1.624173   \n",
       "1  35.252917   5.462084          1.413419          1.372664          1.583961   \n",
       "2  35.261250   5.462084          1.418887          1.330445          1.540141   \n",
       "3  35.269583   5.462084          1.457395          1.385305          1.572818   \n",
       "4  35.277917   5.462084          1.512301          1.383120          1.565848   \n",
       "\n",
       "   Pop_Density_2003  Pop_Density_2004  Pop_Density_2005  Pop_Density_2006  \\\n",
       "0          1.924415          2.429911          2.503574          3.391726   \n",
       "1          1.867518          2.361063          2.378553          3.223956   \n",
       "2          1.809350          2.250990          2.280811          3.042585   \n",
       "3          1.860333          2.281828          2.322971          3.142808   \n",
       "4          1.837749          2.219377          2.283923          3.029301   \n",
       "\n",
       "   Pop_Density_2007  ...  Pop_Density_2014  Pop_Density_2015  \\\n",
       "0          3.823526  ...         17.609232         18.419613   \n",
       "1          3.587913  ...         15.599761         15.981864   \n",
       "2          3.314642  ...         14.218251         14.787646   \n",
       "3          3.381774  ...         14.553508         15.171118   \n",
       "4          3.247593  ...         13.881150         14.152464   \n",
       "\n",
       "   Pop_Density_2016  Pop_Density_2017  Pop_Density_2018  Pop_Density_2019  \\\n",
       "0         21.129835         26.949865         35.308475         39.717140   \n",
       "1         17.861954         23.140518         29.548529         32.403442   \n",
       "2         16.177166         21.212101         26.670294         29.277493   \n",
       "3         16.479475         22.152906         27.807093         30.655039   \n",
       "4         15.410886         20.551128         25.901073         28.307270   \n",
       "\n",
       "   Pop_Density_2020  Wind_Speed  Grid_Value  Income_Distribution  \n",
       "0         52.668011    6.410498         1.0              Turkana  \n",
       "1         42.566807    6.410498         1.0              Turkana  \n",
       "2         39.304050    6.410498         1.0              Turkana  \n",
       "3         41.851067    6.410498         1.0              Turkana  \n",
       "4         38.238289    6.410498         1.0              Turkana  \n",
       "\n",
       "[5 rows x 26 columns]"
      ]
     },
     "execution_count": 2,
     "metadata": {},
     "output_type": "execute_result"
    }
   ],
   "source": [
    "df = pd.read_csv(\"final_merged_df.csv\")\n",
    "df.head()"
   ]
  },
  {
   "cell_type": "markdown",
   "metadata": {},
   "source": [
    "### **Data Preparation for Clustering**\n",
    "Select the relevant columns, including one-hot encoded income columns, for clustering."
   ]
  },
  {
   "cell_type": "code",
   "execution_count": 3,
   "metadata": {},
   "outputs": [
    {
     "name": "stdout",
     "output_type": "stream",
     "text": [
      "  Income_Distribution  Income_Distribution_encoded\n",
      "0             Turkana                           42\n",
      "1             Turkana                           42\n",
      "2             Turkana                           42\n",
      "3             Turkana                           42\n",
      "4             Turkana                           42\n"
     ]
    }
   ],
   "source": [
    "#  label encoding income_distribution column\n",
    "label_encoder = LabelEncoder()\n",
    "\n",
    "df['Income_Distribution_encoded'] = label_encoder.fit_transform(df['Income_Distribution'])\n",
    "print(df[['Income_Distribution', 'Income_Distribution_encoded']].head())"
   ]
  },
  {
   "cell_type": "code",
   "execution_count": 4,
   "metadata": {},
   "outputs": [],
   "source": [
    "clustering_data = df[['Pop_Density_2020', 'Wind_Speed', 'Latitude', 'Longitude', 'Grid_Value', 'Income_Distribution_encoded']]"
   ]
  },
  {
   "cell_type": "markdown",
   "metadata": {},
   "source": [
    "### **Standardize Features**\n",
    "Standardize the data to bring all features to a similar scale, ensuring they contribute equally to clustering.\n"
   ]
  },
  {
   "cell_type": "code",
   "execution_count": 5,
   "metadata": {},
   "outputs": [],
   "source": [
    "# Standardize the data to bring all features to a similar scale\n",
    "scaler = StandardScaler()\n",
    "clustering_data_scaled = scaler.fit_transform(clustering_data)"
   ]
  },
  {
   "cell_type": "markdown",
   "metadata": {},
   "source": [
    "**Apply PCA for Dimensionality Reduction**\n",
    "\n",
    "Reduce to 2 components for visualization and efficiency. This helps capture the primary data variance in fewer dimensions."
   ]
  },
  {
   "cell_type": "code",
   "execution_count": 6,
   "metadata": {},
   "outputs": [],
   "source": [
    "# Apply PCA to reduce to a manageable number of components\n",
    "pca = PCA(n_components=2)  # Adjust to 2 components for efficient clustering\n",
    "clustering_data_reduced = pca.fit_transform(clustering_data_scaled)"
   ]
  },
  {
   "cell_type": "markdown",
   "metadata": {},
   "source": [
    "Add PCA components back to the DataFrame for easier access during visualization and further analysis\n"
   ]
  },
  {
   "cell_type": "code",
   "execution_count": 7,
   "metadata": {},
   "outputs": [],
   "source": [
    "# Add PCA components back to the DataFrame\n",
    "df['PCA_Component_1'] = clustering_data_reduced[:, 0]\n",
    "df['PCA_Component_2'] = clustering_data_reduced[:, 1]"
   ]
  },
  {
   "cell_type": "markdown",
   "metadata": {},
   "source": [
    "#### HDBSCAN Clustering:\n",
    "\n",
    "Cluster using HDBSCAN with fine-tuning for optimal parameters."
   ]
  },
  {
   "cell_type": "code",
   "execution_count": 8,
   "metadata": {},
   "outputs": [],
   "source": [
    "hdbscan_clusterer = hdbscan.HDBSCAN(min_cluster_size=20, min_samples=20, metric='manhattan')\n",
    "clusters = hdbscan_clusterer.fit_predict(clustering_data_reduced)\n",
    "stability_scores = hdbscan_clusterer.probabilities_"
   ]
  },
  {
   "cell_type": "code",
   "execution_count": 9,
   "metadata": {},
   "outputs": [],
   "source": [
    "# Add clusters and stability scores to DataFrame\n",
    "df['Cluster'] = clusters\n",
    "df['Stability_Score'] = stability_scores"
   ]
  },
  {
   "cell_type": "markdown",
   "metadata": {},
   "source": [
    "##### Feature Engineering with County and Cluster Insights\n",
    "*Calculate cluster-specific metrics, like average population density and wind speed*"
   ]
  },
  {
   "cell_type": "code",
   "execution_count": 18,
   "metadata": {},
   "outputs": [],
   "source": [
    "import itertools"
   ]
  },
  {
   "cell_type": "code",
   "execution_count": 15,
   "metadata": {},
   "outputs": [
    {
     "name": "stdout",
     "output_type": "stream",
     "text": [
      "Initial Davies-Bouldin Index: 0.5379327913772385\n",
      "Initial Calinski-Harabasz Index: 507744.2436115841\n"
     ]
    }
   ],
   "source": [
    "# Evaluate Clustering Quality (Exclude Noise Points)\n",
    "clustered_data = clustering_data_reduced[clusters != -1]\n",
    "valid_clusters = clusters[clusters != -1]\n",
    "if len(set(valid_clusters)) > 1:\n",
    "    db_index = davies_bouldin_score(clustered_data, valid_clusters)\n",
    "    ch_index = calinski_harabasz_score(clustered_data, valid_clusters)\n",
    "    print(\"Initial Davies-Bouldin Index:\", db_index)\n",
    "    print(\"Initial Calinski-Harabasz Index:\", ch_index)\n",
    "else:\n",
    "    print(\"Insufficient clusters for evaluation metrics\")"
   ]
  },
  {
   "cell_type": "code",
   "execution_count": 16,
   "metadata": {},
   "outputs": [],
   "source": [
    "# Hyperparameter Tuning with Grid Search\n",
    "best_params = {}\n",
    "best_db_index = float('inf')\n",
    "min_cluster_sizes = [20, 50, 100]\n",
    "min_samples_options = [5, 10, 20]\n",
    "metrics = ['euclidean', 'manhattan']"
   ]
  },
  {
   "cell_type": "code",
   "execution_count": 19,
   "metadata": {},
   "outputs": [
    {
     "name": "stdout",
     "output_type": "stream",
     "text": [
      "Best Parameters: {'min_cluster_size': 20, 'min_samples': 20, 'metric': 'euclidean'}\n"
     ]
    }
   ],
   "source": [
    "for min_cluster_size, min_samples, metric in itertools.product(min_cluster_sizes, min_samples_options, metrics):\n",
    "    hdbscan_clusterer = hdbscan.HDBSCAN(min_cluster_size=min_cluster_size, min_samples=min_samples, metric=metric)\n",
    "    clusters = hdbscan_clusterer.fit_predict(clustering_data_reduced)\n",
    "    clustered_data = clustering_data_reduced[clusters != -1]\n",
    "    valid_clusters = clusters[clusters != -1]\n",
    "    \n",
    "    if len(set(valid_clusters)) > 1:\n",
    "        db_index = davies_bouldin_score(clustered_data, valid_clusters)\n",
    "        if db_index < best_db_index:\n",
    "            best_db_index = db_index\n",
    "            best_params = {'min_cluster_size': min_cluster_size, 'min_samples': min_samples, 'metric': metric}\n",
    "\n",
    "print(\"Best Parameters:\", best_params)"
   ]
  },
  {
   "cell_type": "code",
   "execution_count": 24,
   "metadata": {},
   "outputs": [],
   "source": [
    "# Reapply HDBSCAN with Optimal Parameters\n",
    "hdbscan_clusterer = hdbscan.HDBSCAN(**best_params)\n",
    "clusters = hdbscan_clusterer.fit_predict(clustering_data_reduced)\n",
    "stability_scores = hdbscan_clusterer.probabilities_"
   ]
  },
  {
   "cell_type": "code",
   "execution_count": null,
   "metadata": {},
   "outputs": [],
   "source": [
    "# Add clusters and stability scores to DataFrame\n",
    "df['Cluster'] = clusters\n",
    "df['Stability_Score'] = stability_scores"
   ]
  },
  {
   "cell_type": "code",
   "execution_count": null,
   "metadata": {},
   "outputs": [
    {
     "name": "stdout",
     "output_type": "stream",
     "text": [
      "Optimal Davies-Bouldin Index: 0.7524995002473333\n",
      "Optimal Calinski-Harabasz Index: 4660298.254013014\n"
     ]
    }
   ],
   "source": [
    "# Final Cluster Evaluation\n",
    "clustered_data = clustering_data_reduced[clusters != -1]\n",
    "valid_clusters = clusters[clusters != -1]\n",
    "if len(set(valid_clusters)) > 1:\n",
    "    db_index = davies_bouldin_score(clustered_data, valid_clusters)\n",
    "    ch_index = calinski_harabasz_score(clustered_data, valid_clusters)\n",
    "    print(\"Optimal Davies-Bouldin Index:\", db_index)\n",
    "    print(\"Optimal Calinski-Harabasz Index:\", ch_index)\n",
    "else:\n",
    "    print(\"Insufficient clusters for evaluation metrics\")"
   ]
  },
  {
   "cell_type": "code",
   "execution_count": null,
   "metadata": {},
   "outputs": [
    {
     "data": {
      "image/png": "[encoded data removed]",
      "text/plain": [
       "<Figure size 1000x600 with 2 Axes>"
      ]
     },
     "metadata": {},
     "output_type": "display_data"
    }
   ],
   "source": [
    "# Cluster Visualization\n",
    "plt.figure(figsize=(10, 6))\n",
    "plt.scatter(df['PCA_Component_1'], df['PCA_Component_2'], c=df['Cluster'], cmap='viridis', s=5)\n",
    "plt.colorbar(label='Cluster')\n",
    "plt.xlabel('PCA Component 1')\n",
    "plt.ylabel('PCA Component 2')\n",
    "plt.title('HDBSCAN Clustering Results with Optimal Parameters')\n",
    "plt.show()"
   ]
  },
  {
   "cell_type": "code",
   "execution_count": 29,
   "metadata": {},
   "outputs": [
    {
     "name": "stdout",
     "output_type": "stream",
     "text": [
      "Electrification Label Distribution:\n",
      "Electrification_Label\n",
      "0    751735\n",
      "1    406805\n",
      "Name: count, dtype: int64\n"
     ]
    }
   ],
   "source": [
    "# Apply Rule-Based Labeling for Energy Planning\n",
    "df['Electrification_Label'] = df.apply(\n",
    "    lambda row: \n",
    "        0 if row['Pop_Density_2020'] > 20 and row['Grid_Value'] > 0.5 else  # Grid extension likely\n",
    "        1 if row['Pop_Density_2020'] < 20 and row['Wind_Speed'] > 5 else    # Wind microgrid likely\n",
    "        2, axis=1  # Custom solutions or investigation\n",
    ")\n",
    "\n",
    "# Summary of Energy Planning Labels\n",
    "print(\"Electrification Label Distribution:\")\n",
    "print(df['Electrification_Label'].value_counts())"
   ]
  },
  {
   "cell_type": "code",
   "execution_count": 30,
   "metadata": {},
   "outputs": [
    {
     "data": {
      "text/html": [
       "<div>\n",
       "<style scoped>\n",
       "    .dataframe tbody tr th:only-of-type {\n",
       "        vertical-align: middle;\n",
       "    }\n",
       "\n",
       "    .dataframe tbody tr th {\n",
       "        vertical-align: top;\n",
       "    }\n",
       "\n",
       "    .dataframe thead th {\n",
       "        text-align: right;\n",
       "    }\n",
       "</style>\n",
       "<table border=\"1\" class=\"dataframe\">\n",
       "  <thead>\n",
       "    <tr style=\"text-align: right;\">\n",
       "      <th></th>\n",
       "      <th>Latitude</th>\n",
       "      <th>Longitude</th>\n",
       "      <th>Pop_Density_2000</th>\n",
       "      <th>Pop_Density_2001</th>\n",
       "      <th>Pop_Density_2002</th>\n",
       "      <th>Pop_Density_2003</th>\n",
       "      <th>Pop_Density_2004</th>\n",
       "      <th>Pop_Density_2005</th>\n",
       "      <th>Pop_Density_2006</th>\n",
       "      <th>Pop_Density_2007</th>\n",
       "      <th>...</th>\n",
       "      <th>PCA_Component_2</th>\n",
       "      <th>Cluster</th>\n",
       "      <th>Stability_Score</th>\n",
       "      <th>Cluster_Mean_Pop_Density_x</th>\n",
       "      <th>Cluster_Mean_Wind_Speed_x</th>\n",
       "      <th>Electrification_Label</th>\n",
       "      <th>Cluster_Mean_Pop_Density_y</th>\n",
       "      <th>Cluster_Mean_Wind_Speed_y</th>\n",
       "      <th>Cluster_Mean_Pop_Density</th>\n",
       "      <th>Cluster_Mean_Wind_Speed</th>\n",
       "    </tr>\n",
       "  </thead>\n",
       "  <tbody>\n",
       "    <tr>\n",
       "      <th>0</th>\n",
       "      <td>35.244583</td>\n",
       "      <td>5.462084</td>\n",
       "      <td>1.416720</td>\n",
       "      <td>1.396852</td>\n",
       "      <td>1.624173</td>\n",
       "      <td>1.924415</td>\n",
       "      <td>2.429911</td>\n",
       "      <td>2.503574</td>\n",
       "      <td>3.391726</td>\n",
       "      <td>3.823526</td>\n",
       "      <td>...</td>\n",
       "      <td>-0.104320</td>\n",
       "      <td>-1</td>\n",
       "      <td>0.0</td>\n",
       "      <td>101.99289</td>\n",
       "      <td>6.066266</td>\n",
       "      <td>0</td>\n",
       "      <td>112.940581</td>\n",
       "      <td>6.081362</td>\n",
       "      <td>112.940581</td>\n",
       "      <td>6.081362</td>\n",
       "    </tr>\n",
       "    <tr>\n",
       "      <th>1</th>\n",
       "      <td>35.252917</td>\n",
       "      <td>5.462084</td>\n",
       "      <td>1.413419</td>\n",
       "      <td>1.372664</td>\n",
       "      <td>1.583961</td>\n",
       "      <td>1.867518</td>\n",
       "      <td>2.361063</td>\n",
       "      <td>2.378553</td>\n",
       "      <td>3.223956</td>\n",
       "      <td>3.587913</td>\n",
       "      <td>...</td>\n",
       "      <td>-0.124208</td>\n",
       "      <td>-1</td>\n",
       "      <td>0.0</td>\n",
       "      <td>101.99289</td>\n",
       "      <td>6.066266</td>\n",
       "      <td>0</td>\n",
       "      <td>112.940581</td>\n",
       "      <td>6.081362</td>\n",
       "      <td>112.940581</td>\n",
       "      <td>6.081362</td>\n",
       "    </tr>\n",
       "    <tr>\n",
       "      <th>2</th>\n",
       "      <td>35.261250</td>\n",
       "      <td>5.462084</td>\n",
       "      <td>1.418887</td>\n",
       "      <td>1.330445</td>\n",
       "      <td>1.540141</td>\n",
       "      <td>1.809350</td>\n",
       "      <td>2.250990</td>\n",
       "      <td>2.280811</td>\n",
       "      <td>3.042585</td>\n",
       "      <td>3.314642</td>\n",
       "      <td>...</td>\n",
       "      <td>-0.130632</td>\n",
       "      <td>-1</td>\n",
       "      <td>0.0</td>\n",
       "      <td>101.99289</td>\n",
       "      <td>6.066266</td>\n",
       "      <td>0</td>\n",
       "      <td>112.940581</td>\n",
       "      <td>6.081362</td>\n",
       "      <td>112.940581</td>\n",
       "      <td>6.081362</td>\n",
       "    </tr>\n",
       "    <tr>\n",
       "      <th>3</th>\n",
       "      <td>35.269583</td>\n",
       "      <td>5.462084</td>\n",
       "      <td>1.457395</td>\n",
       "      <td>1.385305</td>\n",
       "      <td>1.572818</td>\n",
       "      <td>1.860333</td>\n",
       "      <td>2.281828</td>\n",
       "      <td>2.322971</td>\n",
       "      <td>3.142808</td>\n",
       "      <td>3.381774</td>\n",
       "      <td>...</td>\n",
       "      <td>-0.125618</td>\n",
       "      <td>-1</td>\n",
       "      <td>0.0</td>\n",
       "      <td>101.99289</td>\n",
       "      <td>6.066266</td>\n",
       "      <td>0</td>\n",
       "      <td>112.940581</td>\n",
       "      <td>6.081362</td>\n",
       "      <td>112.940581</td>\n",
       "      <td>6.081362</td>\n",
       "    </tr>\n",
       "    <tr>\n",
       "      <th>4</th>\n",
       "      <td>35.277917</td>\n",
       "      <td>5.462084</td>\n",
       "      <td>1.512301</td>\n",
       "      <td>1.383120</td>\n",
       "      <td>1.565848</td>\n",
       "      <td>1.837749</td>\n",
       "      <td>2.219377</td>\n",
       "      <td>2.283923</td>\n",
       "      <td>3.029301</td>\n",
       "      <td>3.247593</td>\n",
       "      <td>...</td>\n",
       "      <td>-0.132732</td>\n",
       "      <td>1517</td>\n",
       "      <td>0.0</td>\n",
       "      <td>101.99289</td>\n",
       "      <td>6.066266</td>\n",
       "      <td>0</td>\n",
       "      <td>15.024401</td>\n",
       "      <td>6.142014</td>\n",
       "      <td>15.024401</td>\n",
       "      <td>6.142014</td>\n",
       "    </tr>\n",
       "  </tbody>\n",
       "</table>\n",
       "<p>5 rows × 38 columns</p>\n",
       "</div>"
      ],
      "text/plain": [
       "    Latitude  Longitude  Pop_Density_2000  Pop_Density_2001  Pop_Density_2002  \\\n",
       "0  35.244583   5.462084          1.416720          1.396852          1.624173   \n",
       "1  35.252917   5.462084          1.413419          1.372664          1.583961   \n",
       "2  35.261250   5.462084          1.418887          1.330445          1.540141   \n",
       "3  35.269583   5.462084          1.457395          1.385305          1.572818   \n",
       "4  35.277917   5.462084          1.512301          1.383120          1.565848   \n",
       "\n",
       "   Pop_Density_2003  Pop_Density_2004  Pop_Density_2005  Pop_Density_2006  \\\n",
       "0          1.924415          2.429911          2.503574          3.391726   \n",
       "1          1.867518          2.361063          2.378553          3.223956   \n",
       "2          1.809350          2.250990          2.280811          3.042585   \n",
       "3          1.860333          2.281828          2.322971          3.142808   \n",
       "4          1.837749          2.219377          2.283923          3.029301   \n",
       "\n",
       "   Pop_Density_2007  ...  PCA_Component_2  Cluster  Stability_Score  \\\n",
       "0          3.823526  ...        -0.104320       -1              0.0   \n",
       "1          3.587913  ...        -0.124208       -1              0.0   \n",
       "2          3.314642  ...        -0.130632       -1              0.0   \n",
       "3          3.381774  ...        -0.125618       -1              0.0   \n",
       "4          3.247593  ...        -0.132732     1517              0.0   \n",
       "\n",
       "   Cluster_Mean_Pop_Density_x  Cluster_Mean_Wind_Speed_x  \\\n",
       "0                   101.99289                   6.066266   \n",
       "1                   101.99289                   6.066266   \n",
       "2                   101.99289                   6.066266   \n",
       "3                   101.99289                   6.066266   \n",
       "4                   101.99289                   6.066266   \n",
       "\n",
       "   Electrification_Label  Cluster_Mean_Pop_Density_y  \\\n",
       "0                      0                  112.940581   \n",
       "1                      0                  112.940581   \n",
       "2                      0                  112.940581   \n",
       "3                      0                  112.940581   \n",
       "4                      0                   15.024401   \n",
       "\n",
       "   Cluster_Mean_Wind_Speed_y  Cluster_Mean_Pop_Density  \\\n",
       "0                   6.081362                112.940581   \n",
       "1                   6.081362                112.940581   \n",
       "2                   6.081362                112.940581   \n",
       "3                   6.081362                112.940581   \n",
       "4                   6.142014                 15.024401   \n",
       "\n",
       "   Cluster_Mean_Wind_Speed  \n",
       "0                 6.081362  \n",
       "1                 6.081362  \n",
       "2                 6.081362  \n",
       "3                 6.081362  \n",
       "4                 6.142014  \n",
       "\n",
       "[5 rows x 38 columns]"
      ]
     },
     "execution_count": 30,
     "metadata": {},
     "output_type": "execute_result"
    }
   ],
   "source": [
    "# Calculate cluster-level metrics\n",
    "cluster_metrics = df.groupby('Cluster').agg({\n",
    "    'Pop_Density_2020': 'mean',\n",
    "    'Wind_Speed': 'mean'\n",
    "}).rename(columns={\n",
    "    'Pop_Density_2020': 'Cluster_Mean_Pop_Density',\n",
    "    'Wind_Speed': 'Cluster_Mean_Wind_Speed'\n",
    "})\n",
    "df = df.merge(cluster_metrics, on='Cluster', how='left')\n",
    "df.head()"
   ]
  },
  {
   "cell_type": "markdown",
   "metadata": {},
   "source": [
    "County-Level Aggregation\n",
    "*Derive insights by county, such as the number of unique clusters or stability scores*"
   ]
  },
  {
   "cell_type": "code",
   "execution_count": 31,
   "metadata": {},
   "outputs": [
    {
     "name": "stdout",
     "output_type": "stream",
     "text": [
      "County-Level Cluster Summary:\n",
      "      index  Cluster  Stability_Score  Electrification_Label\n",
      "0         0     57.0         0.644261                    NaN\n",
      "1         1     25.0         0.595036                    NaN\n",
      "2         2     45.0         0.505087                    NaN\n",
      "3         3     23.0         0.506892                    NaN\n",
      "4         4     53.0         0.647563                    NaN\n",
      "..      ...      ...              ...                    ...\n",
      "90  (42, 0)      NaN              NaN               289009.0\n",
      "91  (43, 0)      NaN              NaN                 7331.0\n",
      "92  (44, 0)      NaN              NaN                 4906.0\n",
      "93  (45, 0)      NaN              NaN                 3598.0\n",
      "94  (46, 0)      NaN              NaN                11568.0\n",
      "\n",
      "[95 rows x 4 columns]\n"
     ]
    }
   ],
   "source": [
    "# Calculate county-level summaries\n",
    "county_cluster_summary = df.groupby('Income_Distribution_encoded').agg({\n",
    "    'Cluster': 'nunique',\n",
    "    'Stability_Score': 'mean',\n",
    "    'Electrification_Label': 'value_counts'\n",
    "    # 'Grid_Value': 'value_counts'\n",
    "}).reset_index()\n",
    "\n",
    "print(\"County-Level Cluster Summary:\")\n",
    "print(county_cluster_summary)"
   ]
  },
  {
   "cell_type": "markdown",
   "metadata": {},
   "source": [
    "#### Integrate Cluster and County Features into MLP Model"
   ]
  },
  {
   "cell_type": "code",
   "execution_count": 32,
   "metadata": {},
   "outputs": [],
   "source": [
    "from tensorflow.keras.models import Model\n",
    "from tensorflow.keras.layers import Dense, Embedding, Flatten, Concatenate, Input\n",
    "from tensorflow.keras.optimizers import Adam"
   ]
  },
  {
   "cell_type": "code",
   "execution_count": 37,
   "metadata": {},
   "outputs": [
    {
     "name": "stdout",
     "output_type": "stream",
     "text": [
      "Index(['Latitude', 'Longitude', 'Pop_Density_2000', 'Pop_Density_2001',\n",
      "       'Pop_Density_2002', 'Pop_Density_2003', 'Pop_Density_2004',\n",
      "       'Pop_Density_2005', 'Pop_Density_2006', 'Pop_Density_2007',\n",
      "       'Pop_Density_2008', 'Pop_Density_2009', 'Pop_Density_2010',\n",
      "       'Pop_Density_2011', 'Pop_Density_2012', 'Pop_Density_2013',\n",
      "       'Pop_Density_2014', 'Pop_Density_2015', 'Pop_Density_2016',\n",
      "       'Pop_Density_2017', 'Pop_Density_2018', 'Pop_Density_2019',\n",
      "       'Pop_Density_2020', 'Wind_Speed', 'Grid_Value', 'Income_Distribution',\n",
      "       'Income_Distribution_encoded', 'PCA_Component_1', 'PCA_Component_2',\n",
      "       'Cluster', 'Stability_Score', 'Cluster_Mean_Pop_Density_x',\n",
      "       'Cluster_Mean_Wind_Speed_x', 'Electrification_Label',\n",
      "       'Cluster_Mean_Pop_Density_y', 'Cluster_Mean_Wind_Speed_y',\n",
      "       'Cluster_Mean_Pop_Density', 'Cluster_Mean_Wind_Speed'],\n",
      "      dtype='object')\n"
     ]
    }
   ],
   "source": [
    "print(df.columns)"
   ]
  },
  {
   "cell_type": "code",
   "execution_count": 38,
   "metadata": {},
   "outputs": [
    {
     "name": "stdout",
     "output_type": "stream",
     "text": [
      "   Grid_Value  Has_Electricity\n",
      "0         1.0                1\n",
      "1         1.0                1\n",
      "2         1.0                1\n",
      "3         1.0                1\n",
      "4         1.0                1\n"
     ]
    }
   ],
   "source": [
    "# Create the 'Has_Electricity' column\n",
    "df['Has_Electricity'] = df['Grid_Value'].apply(lambda x: 1 if x > 0.5 else 0)\n",
    "\n",
    "# Verify the column\n",
    "print(df[['Grid_Value', 'Has_Electricity']].head())"
   ]
  },
  {
   "cell_type": "code",
   "execution_count": 41,
   "metadata": {},
   "outputs": [
    {
     "name": "stdout",
     "output_type": "stream",
     "text": [
      "Has_Electricity\n",
      "1    1158540\n",
      "Name: count, dtype: int64\n"
     ]
    }
   ],
   "source": [
    "# Check the distribution of the new column\n",
    "print(df['Has_Electricity'].value_counts())"
   ]
  },
  {
   "cell_type": "code",
   "execution_count": 39,
   "metadata": {},
   "outputs": [],
   "source": [
    "# Define features for MLP model\n",
    "numeric_features = [\n",
    "    'Pop_Density_2020', 'Wind_Speed', 'Latitude', 'Longitude', 'Grid_Value',\n",
    "    'Cluster', 'Stability_Score', 'Income_Distribution_encoded', 'Cluster_Mean_Pop_Density', 'Cluster_Mean_Wind_Speed'\n",
    "]\n",
    "\n",
    "# Target variable\n",
    "target_column = 'Has_Electricity'"
   ]
  },
  {
   "cell_type": "code",
   "execution_count": 40,
   "metadata": {},
   "outputs": [],
   "source": [
    "# Prepare inputs\n",
    "X_numeric = df[numeric_features]\n",
    "X_county = df['Income_Distribution_encoded']  # Label-encoded Income_Distribution\n",
    "y = df['Has_Electricity']"
   ]
  },
  {
   "cell_type": "code",
   "execution_count": 42,
   "metadata": {},
   "outputs": [],
   "source": [
    "# Standardize numeric features\n",
    "scaler = StandardScaler()\n",
    "X_numeric_scaled = scaler.fit_transform(X_numeric)"
   ]
  },
  {
   "cell_type": "code",
   "execution_count": 43,
   "metadata": {},
   "outputs": [],
   "source": [
    "# Define the MLP Model\n",
    "# Numeric input\n",
    "numeric_input = Input(shape=(len(numeric_features),))"
   ]
  },
  {
   "cell_type": "code",
   "execution_count": 44,
   "metadata": {},
   "outputs": [],
   "source": [
    "# County embedding input\n",
    "county_input = Input(shape=(1,))\n",
    "county_embedding = Embedding(input_dim=df['Income_Distribution_encoded'].nunique(), output_dim=8)(county_input)\n",
    "county_embedding = Flatten()(county_embedding)"
   ]
  },
  {
   "cell_type": "code",
   "execution_count": 45,
   "metadata": {},
   "outputs": [],
   "source": [
    "# Concatenate all inputs\n",
    "x = Concatenate()([numeric_input, county_embedding])"
   ]
  },
  {
   "cell_type": "code",
   "execution_count": 46,
   "metadata": {},
   "outputs": [],
   "source": [
    "# Add dense layers\n",
    "x = Dense(64, activation='relu')(x)\n",
    "x = Dense(32, activation='relu')(x)\n",
    "output = Dense(1, activation='sigmoid')(x)"
   ]
  },
  {
   "cell_type": "code",
   "execution_count": 47,
   "metadata": {},
   "outputs": [],
   "source": [
    "# Compile and train the model\n",
    "model = Model(inputs=[numeric_input, county_input], outputs=output)\n",
    "model.compile(optimizer=Adam(learning_rate=0.001), loss='binary_crossentropy', metrics=['accuracy'])"
   ]
  },
  {
   "cell_type": "code",
   "execution_count": 48,
   "metadata": {},
   "outputs": [
    {
     "name": "stdout",
     "output_type": "stream",
     "text": [
      "Epoch 1/10\n"
     ]
    },
    {
     "name": "stderr",
     "output_type": "stream",
     "text": [
      "c:\\Users\\DAVE\\anaconda3\\Lib\\site-packages\\keras\\src\\models\\functional.py:225: UserWarning: The structure of `inputs` doesn't match the expected structure: ['keras_tensor', 'keras_tensor_1']. Received: the structure of inputs=('*', '*')\n",
      "  warnings.warn(\n"
     ]
    },
    {
     "name": "stdout",
     "output_type": "stream",
     "text": [
      "\u001b[1m28964/28964\u001b[0m \u001b[32m━━━━━━━━━━━━━━━━━━━━\u001b[0m\u001b[37m\u001b[0m \u001b[1m290s\u001b[0m 10ms/step - accuracy: 0.9963 - loss: 0.0086 - val_accuracy: 1.0000 - val_loss: 5.2652e-09\n",
      "Epoch 2/10\n",
      "\u001b[1m28964/28964\u001b[0m \u001b[32m━━━━━━━━━━━━━━━━━━━━\u001b[0m\u001b[37m\u001b[0m \u001b[1m246s\u001b[0m 8ms/step - accuracy: 1.0000 - loss: 1.0135e-09 - val_accuracy: 1.0000 - val_loss: 3.7527e-09\n",
      "Epoch 3/10\n",
      "\u001b[1m28964/28964\u001b[0m \u001b[32m━━━━━━━━━━━━━━━━━━━━\u001b[0m\u001b[37m\u001b[0m \u001b[1m230s\u001b[0m 8ms/step - accuracy: 1.0000 - loss: 8.4715e-10 - val_accuracy: 1.0000 - val_loss: 3.5353e-09\n",
      "Epoch 4/10\n",
      "\u001b[1m28964/28964\u001b[0m \u001b[32m━━━━━━━━━━━━━━━━━━━━\u001b[0m\u001b[37m\u001b[0m \u001b[1m32100s\u001b[0m 6ms/step - accuracy: 1.0000 - loss: 8.0510e-10 - val_accuracy: 1.0000 - val_loss: 3.3915e-09\n",
      "Epoch 5/10\n",
      "\u001b[1m28964/28964\u001b[0m \u001b[32m━━━━━━━━━━━━━━━━━━━━\u001b[0m\u001b[37m\u001b[0m \u001b[1m168s\u001b[0m 6ms/step - accuracy: 1.0000 - loss: 7.8337e-10 - val_accuracy: 1.0000 - val_loss: 3.2562e-09\n",
      "Epoch 6/10\n",
      "\u001b[1m28964/28964\u001b[0m \u001b[32m━━━━━━━━━━━━━━━━━━━━\u001b[0m\u001b[37m\u001b[0m \u001b[1m153s\u001b[0m 5ms/step - accuracy: 1.0000 - loss: 7.5202e-10 - val_accuracy: 1.0000 - val_loss: 3.1586e-09\n",
      "Epoch 7/10\n",
      "\u001b[1m28964/28964\u001b[0m \u001b[32m━━━━━━━━━━━━━━━━━━━━\u001b[0m\u001b[37m\u001b[0m \u001b[1m155s\u001b[0m 4ms/step - accuracy: 1.0000 - loss: 7.3237e-10 - val_accuracy: 1.0000 - val_loss: 3.0856e-09\n",
      "Epoch 8/10\n",
      "\u001b[1m28964/28964\u001b[0m \u001b[32m━━━━━━━━━━━━━━━━━━━━\u001b[0m\u001b[37m\u001b[0m \u001b[1m144s\u001b[0m 4ms/step - accuracy: 1.0000 - loss: 7.2032e-10 - val_accuracy: 1.0000 - val_loss: 3.0142e-09\n",
      "Epoch 9/10\n",
      "\u001b[1m28964/28964\u001b[0m \u001b[32m━━━━━━━━━━━━━━━━━━━━\u001b[0m\u001b[37m\u001b[0m \u001b[1m133s\u001b[0m 3ms/step - accuracy: 1.0000 - loss: 7.0618e-10 - val_accuracy: 1.0000 - val_loss: 2.9443e-09\n",
      "Epoch 10/10\n",
      "\u001b[1m28964/28964\u001b[0m \u001b[32m━━━━━━━━━━━━━━━━━━━━\u001b[0m\u001b[37m\u001b[0m \u001b[1m94s\u001b[0m 3ms/step - accuracy: 1.0000 - loss: 6.9196e-10 - val_accuracy: 1.0000 - val_loss: 2.8759e-09\n"
     ]
    },
    {
     "data": {
      "text/plain": [
       "<keras.src.callbacks.history.History at 0x2192065c2d0>"
      ]
     },
     "execution_count": 48,
     "metadata": {},
     "output_type": "execute_result"
    }
   ],
   "source": [
    "# Train the model\n",
    "model.fit([X_numeric_scaled, X_county], y, epochs=10, batch_size=32, validation_split=0.2)"
   ]
  },
  {
   "cell_type": "markdown",
   "metadata": {},
   "source": [
    "#### County-Specific Analysis\n",
    "\n",
    "Perform county-level analysis to identify areas needing electricity or suitable for microgrids."
   ]
  },
  {
   "cell_type": "code",
   "execution_count": 50,
   "metadata": {},
   "outputs": [
    {
     "name": "stdout",
     "output_type": "stream",
     "text": [
      "Counties needing electricity:\n",
      "Income_Distribution_encoded\n",
      "0      15507\n",
      "1       8020\n",
      "2      14165\n",
      "3      10661\n",
      "4      13790\n",
      "5      11684\n",
      "6       4893\n",
      "7       8471\n",
      "8       8485\n",
      "9      31348\n",
      "10      9921\n",
      "11      8346\n",
      "12      9339\n",
      "13      6339\n",
      "14      9494\n",
      "15      5671\n",
      "16      8157\n",
      "17     31939\n",
      "18      7253\n",
      "19      8560\n",
      "20      1632\n",
      "21     17706\n",
      "22     23854\n",
      "23      3505\n",
      "24     10703\n",
      "25      4259\n",
      "26     18119\n",
      "27      2182\n",
      "28      8336\n",
      "29      5639\n",
      "30      9761\n",
      "31      5880\n",
      "32     32058\n",
      "33      4840\n",
      "34      5335\n",
      "35      6454\n",
      "36      9304\n",
      "37      4781\n",
      "38     14067\n",
      "39      4194\n",
      "40      5039\n",
      "41      5632\n",
      "42    289009\n",
      "43      7331\n",
      "44      4906\n",
      "45      3598\n",
      "46     11568\n",
      "dtype: int64\n"
     ]
    }
   ],
   "source": [
    "# Identify counties with high need for electricity (based on electrification label)\n",
    "counties_needing_electricity = df[df['Electrification_Label'] == 0].groupby('Income_Distribution_encoded').size()\n",
    "print(\"Counties needing electricity:\")\n",
    "print(counties_needing_electricity)"
   ]
  },
  {
   "cell_type": "code",
   "execution_count": 51,
   "metadata": {},
   "outputs": [
    {
     "name": "stdout",
     "output_type": "stream",
     "text": [
      "Counties suitable for wind microgrids:\n",
      "Income_Distribution_encoded\n",
      "42    406805\n",
      "dtype: int64\n"
     ]
    }
   ],
   "source": [
    "# Identify counties suitable for wind microgrids\n",
    "counties_wind_microgrid = df[df['Electrification_Label'] == 1].groupby('Income_Distribution_encoded').size()\n",
    "print(\"Counties suitable for wind microgrids:\")\n",
    "print(counties_wind_microgrid)"
   ]
  },
  {
   "cell_type": "markdown",
   "metadata": {},
   "source": [
    "#### Visualization of Results by County"
   ]
  },
  {
   "cell_type": "code",
   "execution_count": 55,
   "metadata": {},
   "outputs": [
    {
     "data": {
      "image/png": "[encoded data removed]",
      "text/plain": [
       "<Figure size 1200x800 with 2 Axes>"
      ]
     },
     "metadata": {},
     "output_type": "display_data"
    }
   ],
   "source": [
    "import matplotlib.pyplot as plt\n",
    "\n",
    "# Create a scatter plot\n",
    "plt.figure(figsize=(12, 8))\n",
    "scatter = plt.scatter(\n",
    "    df['Longitude'], df['Latitude'],\n",
    "    c=df['Electrification_Label'], cmap='coolwarm', s=50, alpha=0.8, edgecolor='k'\n",
    ")\n",
    "plt.colorbar(scatter, label='Electrification Label')\n",
    "plt.title('Electrification Recommendations by Location')\n",
    "plt.xlabel('Longitude')\n",
    "plt.ylabel('Latitude')\n",
    "plt.show()"
   ]
  },
  {
   "cell_type": "markdown",
   "metadata": {},
   "source": [
    "### Savve Models"
   ]
  },
  {
   "cell_type": "code",
   "execution_count": 56,
   "metadata": {},
   "outputs": [
    {
     "name": "stderr",
     "output_type": "stream",
     "text": [
      "WARNING:absl:You are saving your model as an HDF5 file via `model.save()` or `keras.saving.save_model(model)`. This file format is considered legacy. We recommend using instead the native Keras format, e.g. `model.save('my_model.keras')` or `keras.saving.save_model(model, 'my_model.keras')`. \n"
     ]
    },
    {
     "data": {
      "text/plain": [
       "['hdbscan_model.pkl']"
      ]
     },
     "execution_count": 56,
     "metadata": {},
     "output_type": "execute_result"
    }
   ],
   "source": [
    "# Save the MLP model\n",
    "model.save(\"mlp_model.h5\")\n",
    "\n",
    "import joblib\n",
    "\n",
    "# Save the scaler\n",
    "scaler_filename = \"scaler.pkl\"\n",
    "joblib.dump(scaler, scaler_filename)\n",
    "\n",
    "# Save the label encoder\n",
    "label_encoder_filename = \"label_encoder.pkl\"\n",
    "joblib.dump(label_encoder, label_encoder_filename)\n",
    "\n",
    "# Save the HDBSCAN model\n",
    "hdbscan_filename = \"hdbscan_model.pkl\"\n",
    "joblib.dump(hdbscan_clusterer, hdbscan_filename)\n"
   ]
  },
  {
   "cell_type": "code",
   "execution_count": 57,
   "metadata": {},
   "outputs": [],
   "source": [
    "import json\n",
    "\n",
    "# Save feature names and PCA parameters\n",
    "metadata = {\n",
    "    \"features\": numeric_features,\n",
    "    \"pca_components\": 2\n",
    "}\n",
    "with open(\"metadata.json\", \"w\") as f:\n",
    "    json.dump(metadata, f)\n"
   ]
  },
  {
   "cell_type": "code",
   "execution_count": null,
   "metadata": {},
   "outputs": [],
   "source": []
  }
 ],
 "metadata": {
  "kernelspec": {
   "display_name": "base",
   "language": "python",
   "name": "python3"
  },
  "language_info": {
   "codemirror_mode": {
    "name": "ipython",
    "version": 3
   },
   "file_extension": ".py",
   "mimetype": "text/x-python",
   "name": "python",
   "nbconvert_exporter": "python",
   "pygments_lexer": "ipython3",
   "version": "3.11.10"
  }
 },
 "nbformat": 4,
 "nbformat_minor": 2
}
